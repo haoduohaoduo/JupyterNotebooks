{
 "cells": [
  {
   "cell_type": "code",
   "execution_count": 49,
   "metadata": {
    "ExecuteTime": {
     "end_time": "2021-10-16T07:12:03.183510Z",
     "start_time": "2021-10-16T07:11:58.704972Z"
    }
   },
   "outputs": [
    {
     "name": "stdout",
     "output_type": "stream",
     "text": [
      "Package                            Version   Location                                      \r\n",
      "---------------------------------- --------- ----------------------------------------------\r\n",
      "absl-py                            0.8.1     \r\n",
      "aiocontextvars                     0.2.2     \r\n",
      "aiohttp                            3.6.2     \r\n",
      "alabaster                          0.7.12    \r\n",
      "amqp                               5.0.2     \r\n",
      "anaconda-client                    1.7.2     \r\n",
      "anaconda-navigator                 1.9.7     \r\n",
      "anaconda-project                   0.8.2     \r\n",
      "aniso8601                          9.0.1     \r\n",
      "anyio                              3.3.0     \r\n",
      "appdirs                            1.4.3     \r\n",
      "appnope                            0.1.0     \r\n",
      "appscript                          1.0.1     \r\n",
      "APScheduler                        3.6.1     \r\n",
      "apschedulerweb                     0.1       \r\n",
      "asn1crypto                         0.24.0    \r\n",
      "astor                              0.8.0     \r\n",
      "astroid                            2.1.0     \r\n",
      "async-generator                    1.10      \r\n",
      "async-timeout                      3.0.1     \r\n",
      "atomicwrites                       1.2.1     \r\n",
      "attrs                              18.2.0    \r\n",
      "Automat                            0.7.0     \r\n",
      "Babel                              2.6.0     \r\n",
      "backcall                           0.1.0     \r\n",
      "backports.entry-points-selectable  1.1.0     \r\n",
      "backports.os                       0.1.1     \r\n",
      "backports.shutil-get-terminal-size 1.0.0     \r\n",
      "baidu-aip                          2.2.17.0  \r\n",
      "baostock                           0.8.8     \r\n",
      "beautifulsoup4                     4.9.1     \r\n",
      "billiard                           3.6.3.0   \r\n",
      "bitarray                           0.8.3     \r\n",
      "black                              19.3b0    \r\n",
      "bleach                             3.0.2     \r\n",
      "blinker                            1.4       \r\n",
      "bloom-filter                       1.3       \r\n",
      "bokeh                              2.3.1     \r\n",
      "boto                               2.49.0    \r\n",
      "bottle                             0.12.19   \r\n",
      "bottle-basicauth                   0.1       \r\n",
      "branca                             0.3.1     \r\n",
      "brewer2mpl                         1.4.1     \r\n",
      "bs4                                0.0.1     \r\n",
      "cachetools                         3.1.1     \r\n",
      "calmap                             0.0.7     \r\n",
      "celery                             5.0.2     \r\n",
      "certifi                            2019.6.16 \r\n",
      "cffi                               1.14.6    \r\n",
      "chardet                            3.0.4     \r\n",
      "charset-normalizer                 2.0.4     \r\n",
      "Click                              7.0       \r\n",
      "click-didyoumean                   0.0.3     \r\n",
      "click-repl                         0.1.6     \r\n",
      "cloudpickle                        0.6.1     \r\n",
      "clyent                             1.2.2     \r\n",
      "colorama                           0.4.1     \r\n",
      "conda                              4.7.5     \r\n",
      "conda-build                        3.17.6    \r\n",
      "conda-package-handling             1.3.10    \r\n",
      "constantly                         15.1.0    \r\n",
      "contextlib2                        0.5.5     \r\n",
      "contextvars                        2.4       \r\n",
      "cryptography                       3.4.7     \r\n",
      "cssselect                          1.1.0     \r\n",
      "cycler                             0.10.0    \r\n",
      "Cython                             0.29.2    \r\n",
      "cytoolz                            0.9.0.1   \r\n",
      "dask                               1.0.0     \r\n",
      "dataclasses                        0.8       \r\n",
      "decorator                          4.3.0     \r\n",
      "defusedxml                         0.5.0     \r\n",
      "Deprecated                         1.2.6     \r\n",
      "distlib                            0.3.2     \r\n",
      "distributed                        1.25.1    \r\n",
      "Django                             1.7.8     \r\n",
      "django-appconf                     1.0.4     \r\n",
      "django-braces                      1.14.0    \r\n",
      "django-celery                      3.1.16    \r\n",
      "django-compressor                  1.5       \r\n",
      "django-debug-toolbar               1.3.0     \r\n",
      "django-devserver                   0.8.0     \r\n",
      "django-discover-runner             1.0       \r\n",
      "dnspython                          2.1.0     \r\n",
      "docopt                             0.6.2     \r\n",
      "docutils                           0.14      \r\n",
      "dominate                           2.6.0     \r\n",
      "dukpy                              0.2.2     \r\n",
      "EbookLib                           0.17.1    /Users/lw/WorkSpace/BuEr/Booktype/src/ebooklib\r\n",
      "email-validator                    1.1.3     \r\n",
      "entrypoints                        0.2.3     \r\n",
      "enum34                             1.1.6     \r\n",
      "et-xmlfile                         1.0.1     \r\n",
      "ExifRead                           2.2.1     \r\n",
      "factory-boy                        3.1.0     \r\n",
      "fake-headers                       1.0.2     \r\n",
      "fake-useragent                     0.1.11    \r\n",
      "Faker                              4.17.1    \r\n",
      "fastcache                          1.0.2     \r\n",
      "feedgenerator                      1.9       \r\n",
      "filelock                           3.0.10    \r\n",
      "Flask                              1.0.2     \r\n",
      "Flask-APScheduler                  1.12.2    \r\n",
      "Flask-Bootstrap                    3.3.7.1   \r\n",
      "Flask-Cors                         3.0.7     \r\n",
      "Flask-DebugToolbar                 0.11.0    \r\n",
      "Flask-Login                        0.5.0     \r\n",
      "Flask-Mail                         0.9.1     \r\n",
      "Flask-Moment                       1.0.2     \r\n",
      "Flask-RESTful                      0.3.9     \r\n",
      "Flask-SQLAlchemy                   2.5.1     \r\n",
      "Flask-WTF                          0.15.1    \r\n",
      "folium                             0.7.0     \r\n",
      "fonttools                          3.43.2    \r\n",
      "future                             0.17.1    \r\n",
      "fuzzywuzzy                         0.18.0    \r\n",
      "gast                               0.2.2     \r\n",
      "geographiclib                      1.50      \r\n",
      "geopy                              1.20.0    \r\n",
      "gevent                             1.3.7     \r\n",
      "gitdb                              4.0.7     \r\n",
      "GitPython                          3.1.18    \r\n",
      "glob2                              0.6       \r\n",
      "gmpy2                              2.0.8     \r\n",
      "google-api-core                    1.14.3    \r\n",
      "google-auth                        1.6.3     \r\n",
      "google-auth-oauthlib               0.4.1     \r\n",
      "google-cloud-core                  1.0.3     \r\n",
      "google-cloud-translate             2.0.0     \r\n",
      "google-pasta                       0.1.7     \r\n",
      "googleapis-common-protos           1.6.0     \r\n",
      "googletrans                        2.4.0     \r\n",
      "graphviz                           0.17      \r\n",
      "greenlet                           0.4.15    \r\n",
      "grpcio                             1.24.3    \r\n",
      "h11                                0.12.0    \r\n",
      "h5py                               2.10.0    \r\n",
      "heapdict                           1.0.0     \r\n",
      "html5lib                           1.1       \r\n",
      "httpcore                           0.13.6    \r\n",
      "httpx                              0.19.0    \r\n",
      "hyperlink                          18.0.0    \r\n",
      "idna                               2.8       \r\n",
      "idna-ssl                           1.1.0     \r\n",
      "imagesize                          1.1.0     \r\n",
      "immutables                         0.14      \r\n",
      "importlib-metadata                 3.1.0     \r\n",
      "importlib-resources                5.2.2     \r\n",
      "imutils                            0.5.3     \r\n",
      "incremental                        17.5.0    \r\n",
      "ipykernel                          5.1.0     \r\n",
      "ipython                            7.2.0     \r\n",
      "ipython-genutils                   0.2.0     \r\n",
      "ipywidgets                         7.4.2     \r\n",
      "isort                              4.3.4     \r\n",
      "itchat                             1.3.10    \r\n",
      "itsdangerous                       1.1.0     \r\n",
      "javascripthon                      0.10      \r\n",
      "jdcal                              1.4       \r\n",
      "jedi                               0.13.2    \r\n",
      "jieba                              0.42.1    \r\n",
      "Jinja2                             2.11.2    \r\n",
      "joblib                             0.13.2    \r\n",
      "joypy                              0.2.1     \r\n",
      "jsonschema                         2.6.0     \r\n",
      "jupyter                            1.0.0     \r\n",
      "jupyter-client                     5.2.4     \r\n",
      "jupyter-console                    6.0.0     \r\n",
      "jupyter-contrib-core               0.3.3     \r\n",
      "jupyter-contrib-nbextensions       0.5.1     \r\n",
      "jupyter-core                       4.4.0     \r\n",
      "jupyter-echarts-pypkg              0.1.2     \r\n",
      "jupyter-highlight-selected-word    0.2.0     \r\n",
      "jupyter-latex-envs                 1.4.6     \r\n",
      "jupyter-nbextensions-configurator  0.4.1     \r\n",
      "jupyterlab                         0.35.3    \r\n",
      "jupyterlab-launcher                0.13.1    \r\n",
      "jupyterlab-server                  0.2.0     \r\n",
      "jupyterthemes                      0.20.0    \r\n",
      "Keras                              2.3.1     \r\n",
      "Keras-Applications                 1.0.8     \r\n",
      "Keras-Preprocessing                1.1.0     \r\n",
      "keyring                            17.0.0    \r\n",
      "kiwisolver                         1.0.1     \r\n",
      "kombu                              5.0.2     \r\n",
      "lazy-object-proxy                  1.3.1     \r\n",
      "lesscpy                            0.13.0    \r\n",
      "libarchive-c                       2.8       \r\n",
      "lief                               0.9.0     \r\n",
      "livereload                         2.6.1     \r\n",
      "llvmlite                           0.27.0    \r\n",
      "lml                                0.0.2     \r\n",
      "locket                             0.2.0     \r\n",
      "loguru                             0.5.1     \r\n",
      "lxml                               4.2.5     \r\n",
      "macropy3                           1.1.0b2   \r\n",
      "Markdown                           3.1.1     \r\n",
      "MarkupSafe                         1.1.1     \r\n",
      "matplotlib                         3.0.2     \r\n",
      "mccabe                             0.6.1     \r\n",
      "mistune                            0.8.4     \r\n",
      "mkdocs                             1.0.4     \r\n",
      "mkdocs-material                    4.2.0     \r\n",
      "mock                               4.0.2     \r\n",
      "more-itertools                     4.3.0     \r\n",
      "mpl-finance                        0.10.1    \r\n",
      "mplfinance                         0.12.7a10 \r\n",
      "mpmath                             1.1.0     \r\n",
      "msgpack                            0.5.6     \r\n",
      "multidict                          4.7.6     \r\n",
      "multipledispatch                   0.6.0     \r\n",
      "navigator-updater                  0.2.1     \r\n",
      "nb-black                           1.0.5     \r\n",
      "nbconvert                          5.4.0     \r\n",
      "nbformat                           4.4.0     \r\n",
      "nest-asyncio                       1.3.0     \r\n",
      "netaddr                            0.7.19    \r\n",
      "networkx                           2.2       \r\n",
      "nltk                               3.4       \r\n",
      "nose                               1.3.7     \r\n",
      "notebook                           5.7.4     \r\n",
      "notedown                           1.5.1     \r\n",
      "numpy                              1.19.0    \r\n",
      "numpydoc                           0.8.0     \r\n",
      "oauthlib                           3.1.0     \r\n",
      "objgraph                           3.5.0     \r\n",
      "olefile                            0.46      \r\n",
      "opencv-contrib-python              4.3.0.36  \r\n",
      "openpyxl                           2.5.12    \r\n",
      "ops                                1.2.0     \r\n",
      "opt-einsum                         3.1.0     \r\n",
      "package-name                       0.1       \r\n",
      "packaging                          18.0      \r\n",
      "paddlepaddle-tiny                  1.6.1     \r\n",
      "pandas                             1.0.5     \r\n",
      "pandoc-attributes                  0.1.7     \r\n",
      "pandocfilters                      1.4.2     \r\n",
      "parsel                             1.6.0     \r\n",
      "parso                              0.3.1     \r\n",
      "partd                              0.3.9     \r\n",
      "path.py                            11.5.0    \r\n",
      "pathlib2                           2.3.3     \r\n",
      "patsy                              0.5.1     \r\n",
      "pelican                            4.2.0     \r\n",
      "pep8                               1.7.1     \r\n",
      "pexpect                            4.6.0     \r\n",
      "pickleshare                        0.7.5     \r\n",
      "pika                               1.1.0     \r\n",
      "Pillow                             8.2.0     \r\n",
      "pip                                18.1      \r\n",
      "pipenv                             2021.5.29 \r\n",
      "pipreqs                            0.4.10    \r\n",
      "pkginfo                            1.4.2     \r\n",
      "platformdirs                       2.2.0     \r\n",
      "pluggy                             0.8.0     \r\n",
      "ply                                3.11      \r\n",
      "prettytable                        0.7.2     \r\n",
      "prometheus-client                  0.5.0     \r\n",
      "prompt-toolkit                     2.0.7     \r\n",
      "protobuf                           3.10.0    \r\n",
      "psutil                             5.4.8     \r\n",
      "ptyprocess                         0.6.0     \r\n",
      "py                                 1.7.0     \r\n",
      "pyasn1                             0.4.4     \r\n",
      "pyasn1-modules                     0.2.2     \r\n",
      "pycodestyle                        2.4.0     \r\n",
      "pycosat                            0.6.3     \r\n",
      "pycparser                          2.19      \r\n",
      "pycrypto                           2.6.1     \r\n",
      "pycurl                             7.43.0.2  \r\n",
      "pydash                             5.0.2     \r\n",
      "PyDispatcher                       2.0.5     \r\n",
      "pyecharts                          1.8.1     \r\n",
      "pyecharts-javascripthon            0.0.6     \r\n",
      "pyecharts-jupyter-installer        0.0.3     \r\n",
      "pyee                               6.0.0     \r\n",
      "pyflakes                           2.0.0     \r\n",
      "pygame                             1.9.6     \r\n",
      "PyGithub                           1.43.8    \r\n",
      "Pygments                           2.3.1     \r\n",
      "PyJWT                              1.7.1     \r\n",
      "pylint                             2.2.2     \r\n",
      "pymdown-extensions                 6.0       \r\n",
      "pymongo                            3.10.1    \r\n",
      "pymssql                            2.1.5     \r\n",
      "PyMySQL                            1.0.2     \r\n",
      "pyodbc                             4.0.25    \r\n",
      "pyOpenSSL                          18.0.0    \r\n",
      "pyparsing                          2.3.0     \r\n",
      "pypng                              0.0.19    \r\n",
      "pyppeteer                          0.0.25    \r\n",
      "PyQRCode                           1.2.1     \r\n",
      "pyquery                            1.4.1     \r\n",
      "PySocks                            1.6.8     \r\n",
      "pytesseract                        0.3.0     \r\n",
      "pytest                             4.0.2     \r\n",
      "pytest-openfiles                   0.3.1     \r\n",
      "pytest-remotedata                  0.3.1     \r\n",
      "python-dateutil                    2.8.1     \r\n",
      "python-docx                        0.8.10    \r\n",
      "python-Levenshtein                 0.12.0    \r\n",
      "Python-OOXML                       0.13      \r\n",
      "pytz                               2020.1    \r\n",
      "pywaffle                           0.2.1     \r\n",
      "PyYAML                             3.13      \r\n",
      "pyzmq                              17.1.2    \r\n",
      "QtAwesome                          0.5.3     \r\n",
      "qtconsole                          4.4.3     \r\n",
      "QtPy                               1.5.2     \r\n",
      "queuelib                           1.5.0     \r\n",
      "redis                              3.2.1     \r\n",
      "RequestClient                      0.5.0     \r\n",
      "requests                           2.20.0    \r\n",
      "requests-oauthlib                  1.2.0     \r\n",
      "rfc3986                            1.5.0     \r\n",
      "rope                               0.11.0    \r\n",
      "rsa                                4.0       \r\n",
      "ruamel-yaml                        0.15.46   \r\n",
      "scikit-learn                       0.21.1    \r\n",
      "scikit-surprise                    1.0.6     \r\n",
      "scipy                              1.2.0     \r\n",
      "Scrapy                             1.6.0     \r\n",
      "seaborn                            0.9.0     \r\n",
      "selenium                           3.141.0   \r\n",
      "Send2Trash                         1.5.0     \r\n",
      "service-identity                   18.1.0    \r\n",
      "setuptools                         41.6.0    \r\n",
      "simplegeneric                      0.8.1     \r\n",
      "simplejson                         3.17.0    \r\n",
      "singledispatch                     3.4.0.3   \r\n",
      "six                                1.15.0    \r\n",
      "sklearn                            0.0       \r\n",
      "smartypants                        2.0.1     \r\n",
      "smmap                              4.0.0     \r\n",
      "snapshot-selenium                  0.0.2     \r\n",
      "sniffio                            1.2.0     \r\n",
      "snowballstemmer                    1.2.1     \r\n",
      "sortedcollections                  1.0.1     \r\n",
      "sortedcontainers                   2.1.0     \r\n",
      "soupsieve                          2.0.1     \r\n",
      "Sphinx                             1.8.2     \r\n",
      "sphinxcontrib-websupport           1.1.0     \r\n",
      "spyder                             3.3.2     \r\n",
      "spyder-kernels                     0.3.0     \r\n",
      "SQLAlchemy                         1.2.15    \r\n",
      "sqlparse                           0.4.1     \r\n",
      "squarify                           0.4.3     \r\n",
      "statsmodels                        0.10.1    \r\n",
      "sympy                              1.3       \r\n",
      "TA-Lib                             0.4.19    \r\n",
      "tblib                              1.3.2     \r\n",
      "tensorboard                        2.0.1     \r\n",
      "tensorflow                         2.0.0     \r\n",
      "tensorflow-estimator               2.0.1     \r\n",
      "termcolor                          1.1.0     \r\n",
      "terminado                          0.8.1     \r\n",
      "tesseract                          0.1.3     \r\n",
      "testpath                           0.4.2     \r\n",
      "text-unidecode                     1.3       \r\n",
      "toml                               0.10.0    \r\n",
      "toolz                              0.9.0     \r\n",
      "tornado                            5.1.1     \r\n",
      "torndb                             0.3       \r\n",
      "tqdm                               4.28.1    \r\n",
      "tqsdk                              1.8.3     \r\n",
      "traitlets                          4.3.2     \r\n",
      "translation                        1.0.5     \r\n",
      "tryalgo                            1.3.0     \r\n",
      "tushare                            1.2.62    \r\n",
      "Twisted                            17.5.0    \r\n",
      "typed-ast                          1.1.0     \r\n",
      "typing-extensions                  3.7.4.3   \r\n",
      "typogrify                          2.0.7     \r\n",
      "tzlocal                            2.0.0     \r\n",
      "unicodecsv                         0.14.1    \r\n",
      "Unidecode                          1.0.23    \r\n",
      "Unipath                            1.1       \r\n",
      "urllib3                            1.25.9    \r\n",
      "vine                               5.0.0     \r\n",
      "virtualenv                         20.7.2    \r\n",
      "virtualenv-clone                   0.5.6     \r\n",
      "visitor                            0.1.3     \r\n",
      "w3lib                              1.22.0    \r\n",
      "wcwidth                            0.1.7     \r\n",
      "webencodings                       0.5.1     \r\n",
      "websocket-client                   0.58.0    \r\n",
      "websockets                         8.1       \r\n",
      "Werkzeug                           0.14.1    \r\n",
      "wheel                              0.32.3    \r\n",
      "widgetsnbextension                 3.4.2     \r\n",
      "wrapt                              1.11.2    \r\n",
      "WTForms                            2.3.3     \r\n",
      "wurlitzer                          1.0.2     \r\n",
      "wxpy                               0.3.9.8   \r\n",
      "wxPython                           4.1.1     \r\n",
      "xgboost                            0.90      \r\n",
      "xlrd                               1.2.0     \r\n",
      "XlsxWriter                         1.1.2     \r\n",
      "xlutils                            2.0.0     \r\n",
      "xlwings                            0.15.1    \r\n",
      "xlwt                               1.2.0     \r\n",
      "yarg                               0.1.9     \r\n",
      "yarl                               1.5.1     \r\n",
      "you-get                            0.4.1314  \r\n",
      "zict                               0.1.3     \r\n",
      "zipp                               3.4.0     \r\n",
      "zope.interface                     4.6.0     \r\n"
     ]
    }
   ],
   "source": [
    "# 查看当前kernel下已安装的包  list packages\n",
    "!pip list --format=columns"
   ]
  },
  {
   "cell_type": "code",
   "execution_count": 51,
   "metadata": {
    "ExecuteTime": {
     "end_time": "2021-10-16T07:13:11.810779Z",
     "start_time": "2021-10-16T07:13:11.789413Z"
    }
   },
   "outputs": [
    {
     "data": {
      "text/plain": [
       "'1.19.0'"
      ]
     },
     "execution_count": 51,
     "metadata": {},
     "output_type": "execute_result"
    }
   ],
   "source": [
    "import numpy\n",
    "numpy.__version__"
   ]
  },
  {
   "cell_type": "code",
   "execution_count": 2,
   "metadata": {},
   "outputs": [],
   "source": [
    "# 这一句必须要有，要不然的话，项目不认识接下来的 np 是什么意思\n",
    "# 一般的项目中，numpy 简称为 np，pandas 简称为 pd\n",
    "\n",
    "import numpy as np"
   ]
  },
  {
   "cell_type": "markdown",
   "metadata": {},
   "source": [
    "![QcwYOj](https://upiclw.oss-cn-beijing.aliyuncs.com/uPic/QcwYOj.jpg)\n",
    "\n",
    "NumPy 是 Python 的最重要的扩展程序库之一，也是入门机器学习编程的必备工具。然而对初学者来说，NumPy 的大量运算方法非常难记。最近，国外有位程序员讲 NumPy 的基本运算以图解的方式写下来，让学习过程变得轻松有趣。\n",
    "\n",
    "![V8yceg](https://upiclw.oss-cn-beijing.aliyuncs.com/uPic/V8yceg.jpg)\n",
    "\n",
    "下面就让我们跟随他的教程一起来学习吧！\n",
    "\n",
    "教程内容分为`向量 （一维数组）`、`矩阵 （二维数组）`、`三维与更高维数组`3个部分。\n",
    "\n",
    "\n",
    "## 1. Numpy 数组与 Python 列表\n",
    "\n",
    "\n",
    "在介绍正式内容之前，先让我们先来了解一下Numpy数组与Python列表的区别。\n",
    "\n",
    "乍一看，NumPy 数组类似于 Python 列表。它们都可以用作容器，具有获取（getting）和设置（setting）元素以及插入和移除元素的功能。\n",
    "\n",
    "两者有很多相似之处，以下是二者在运算时的一个示例：\n",
    "\n",
    "![Bb8IJc](https://upiclw.oss-cn-beijing.aliyuncs.com/uPic/Bb8IJc.jpg)"
   ]
  },
  {
   "cell_type": "code",
   "execution_count": 3,
   "metadata": {
    "ExecuteTime": {
     "end_time": "2021-10-14T11:35:41.018271Z",
     "start_time": "2021-10-14T11:35:41.001190Z"
    }
   },
   "outputs": [
    {
     "data": {
      "text/plain": [
       "[2, 4, 6]"
      ]
     },
     "execution_count": 3,
     "metadata": {},
     "output_type": "execute_result"
    }
   ],
   "source": [
    "a = [1,2,3]\n",
    "[q*2 for q in a]"
   ]
  },
  {
   "cell_type": "code",
   "execution_count": 4,
   "metadata": {
    "ExecuteTime": {
     "end_time": "2021-10-14T11:35:44.121351Z",
     "start_time": "2021-10-14T11:35:44.065428Z"
    }
   },
   "outputs": [
    {
     "data": {
      "text/plain": [
       "array([2, 4, 6])"
      ]
     },
     "execution_count": 4,
     "metadata": {},
     "output_type": "execute_result"
    }
   ],
   "source": [
    "a = np.array([1,2,3])\n",
    "a * 2"
   ]
  },
  {
   "cell_type": "code",
   "execution_count": 5,
   "metadata": {
    "ExecuteTime": {
     "end_time": "2021-10-14T11:35:46.947084Z",
     "start_time": "2021-10-14T11:35:46.939675Z"
    }
   },
   "outputs": [
    {
     "data": {
      "text/plain": [
       "[5, 7, 9]"
      ]
     },
     "execution_count": 5,
     "metadata": {},
     "output_type": "execute_result"
    }
   ],
   "source": [
    "a = [1,2,3]\n",
    "b = [4,5,6]\n",
    "[q + r for q,r in zip(a,b)]"
   ]
  },
  {
   "cell_type": "code",
   "execution_count": 6,
   "metadata": {
    "ExecuteTime": {
     "end_time": "2021-10-14T11:35:49.691320Z",
     "start_time": "2021-10-14T11:35:49.686956Z"
    }
   },
   "outputs": [
    {
     "data": {
      "text/plain": [
       "<zip at 0x7fe22e2c1308>"
      ]
     },
     "execution_count": 6,
     "metadata": {},
     "output_type": "execute_result"
    }
   ],
   "source": [
    "zip(a,b)"
   ]
  },
  {
   "cell_type": "code",
   "execution_count": 7,
   "metadata": {
    "ExecuteTime": {
     "end_time": "2021-10-14T11:35:52.367198Z",
     "start_time": "2021-10-14T11:35:52.356904Z"
    }
   },
   "outputs": [
    {
     "data": {
      "text/plain": [
       "array([5, 7, 9])"
      ]
     },
     "execution_count": 7,
     "metadata": {},
     "output_type": "execute_result"
    }
   ],
   "source": [
    "a = np.array([1,2,3])\n",
    "b = np.array([4,5,6])\n",
    "a + b"
   ]
  },
  {
   "cell_type": "markdown",
   "metadata": {},
   "source": [
    "和 Python 列表相比，Numpy 数组具有以下特点：\n",
    "\n",
    "* 更紧凑，尤其是在一维以上的维度；\n",
    "* 向量化操作时比Python列表快，但在末尾添加元素比Python列表慢。\n",
    "\n",
    "![FYK4k3](https://upiclw.oss-cn-beijing.aliyuncs.com/uPic/FYK4k3.jpg)\n",
    "\n",
    "> 在末尾添加元素时，Python列表复杂度为O(1)，NumPy复杂度为O(N)\n",
    "\n",
    "## 2. 向量运算\n",
    "\n",
    "### 2.1 向量初始化\n",
    "\n",
    "创建 NumPy 数组的一种方法是从 Python 列表直接转换，数组元素的类型与列表元素类型相同。\n",
    "\n",
    "![qVUtC6](https://upiclw.oss-cn-beijing.aliyuncs.com/uPic/qVUtC6.jpg)\n",
    "\n",
    "NumPy 数组无法像 Python 列表那样加长，因为在数组末尾没有保留空间。\n",
    "\n",
    "因此，常见的做法是定义一个 Python 列表，对它进行操作，然后再转换为 NumPy 数组，或者用 np.zeros 和 np.empty 初始化数组，预分配必要的空间：\n",
    "\n",
    "![EcbBFa](https://upiclw.oss-cn-beijing.aliyuncs.com/uPic/EcbBFa.jpg)"
   ]
  },
  {
   "cell_type": "code",
   "execution_count": 22,
   "metadata": {},
   "outputs": [
    {
     "data": {
      "text/plain": [
       "dtype('float64')"
      ]
     },
     "execution_count": 22,
     "metadata": {},
     "output_type": "execute_result"
    }
   ],
   "source": [
    "a = np.array([1.,2.,3.])\n",
    "\n",
    "a.dtype"
   ]
  },
  {
   "cell_type": "code",
   "execution_count": 23,
   "metadata": {},
   "outputs": [
    {
     "data": {
      "text/plain": [
       "(3,)"
      ]
     },
     "execution_count": 23,
     "metadata": {},
     "output_type": "execute_result"
    }
   ],
   "source": [
    "a.shape"
   ]
  },
  {
   "cell_type": "markdown",
   "metadata": {},
   "source": [
    "有时我们需要创建一个空数组，大小和元素类型与现有数组相同："
   ]
  },
  {
   "cell_type": "markdown",
   "metadata": {},
   "source": [
    "![94gElZ](https://upiclw.oss-cn-beijing.aliyuncs.com/uPic/94gElZ.jpg)"
   ]
  },
  {
   "cell_type": "code",
   "execution_count": 24,
   "metadata": {},
   "outputs": [
    {
     "data": {
      "text/plain": [
       "dtype('float64')"
      ]
     },
     "execution_count": 24,
     "metadata": {},
     "output_type": "execute_result"
    }
   ],
   "source": [
    "c = np.zeros_like(a)\n",
    "c.dtype"
   ]
  },
  {
   "cell_type": "code",
   "execution_count": 25,
   "metadata": {},
   "outputs": [
    {
     "data": {
      "text/plain": [
       "(3,)"
      ]
     },
     "execution_count": 25,
     "metadata": {},
     "output_type": "execute_result"
    }
   ],
   "source": [
    "c.shape"
   ]
  },
  {
   "cell_type": "markdown",
   "metadata": {},
   "source": [
    "实际上，所有用常量填充创建的数组的函数都有一个_like对应项，来创建相同类型的常数数组：\n",
    "\n",
    ">  注意，like 的是形状\n",
    "\n",
    "![zdEqXO](https://upiclw.oss-cn-beijing.aliyuncs.com/uPic/zdEqXO.jpg)"
   ]
  },
  {
   "cell_type": "markdown",
   "metadata": {},
   "source": [
    "在 NumPy 中，可以用 [arange](https://www.shujudaka.com/documents/data-analysis-basic/numpy-function/python-numpy-arange-function.html) 或者 [linspace](https://www.shujudaka.com/documents/data-analysis-basic/numpy-function/python-numpy-linspace.html) 来初始化单调序列数组：\n",
    "![Q5r4pa](https://upiclw.oss-cn-beijing.aliyuncs.com/uPic/Q5r4pa.jpg)"
   ]
  },
  {
   "cell_type": "code",
   "execution_count": 8,
   "metadata": {
    "ExecuteTime": {
     "end_time": "2021-10-14T11:56:11.011642Z",
     "start_time": "2021-10-14T11:56:11.003432Z"
    }
   },
   "outputs": [
    {
     "data": {
      "text/plain": [
       "array([0, 1, 2, 3, 4, 5])"
      ]
     },
     "execution_count": 8,
     "metadata": {},
     "output_type": "execute_result"
    }
   ],
   "source": [
    "np.arange(6)"
   ]
  },
  {
   "cell_type": "code",
   "execution_count": 9,
   "metadata": {
    "ExecuteTime": {
     "end_time": "2021-10-14T11:56:14.435515Z",
     "start_time": "2021-10-14T11:56:14.428512Z"
    }
   },
   "outputs": [
    {
     "data": {
      "text/plain": [
       "array([2, 3, 4, 5])"
      ]
     },
     "execution_count": 9,
     "metadata": {},
     "output_type": "execute_result"
    }
   ],
   "source": [
    "np.arange(2,6)"
   ]
  },
  {
   "cell_type": "code",
   "execution_count": 10,
   "metadata": {
    "ExecuteTime": {
     "end_time": "2021-10-14T11:56:17.497656Z",
     "start_time": "2021-10-14T11:56:17.487100Z"
    }
   },
   "outputs": [
    {
     "data": {
      "text/plain": [
       "array([1, 3, 5])"
      ]
     },
     "execution_count": 10,
     "metadata": {},
     "output_type": "execute_result"
    }
   ],
   "source": [
    "np.arange(1,6,2)"
   ]
  },
  {
   "cell_type": "code",
   "execution_count": 11,
   "metadata": {
    "ExecuteTime": {
     "end_time": "2021-10-14T11:56:20.780686Z",
     "start_time": "2021-10-14T11:56:20.747026Z"
    }
   },
   "outputs": [
    {
     "data": {
      "text/plain": [
       "array([0. , 0.1, 0.2, 0.3, 0.4, 0.5])"
      ]
     },
     "execution_count": 11,
     "metadata": {},
     "output_type": "execute_result"
    }
   ],
   "source": [
    "np.linspace(0,0.5,6)"
   ]
  },
  {
   "cell_type": "code",
   "execution_count": 12,
   "metadata": {
    "ExecuteTime": {
     "end_time": "2021-10-14T12:19:54.374323Z",
     "start_time": "2021-10-14T12:19:54.348708Z"
    }
   },
   "outputs": [
    {
     "data": {
      "text/plain": [
       "array([2.  , 2.25, 2.5 , 2.75, 3.  ])"
      ]
     },
     "execution_count": 12,
     "metadata": {},
     "output_type": "execute_result"
    }
   ],
   "source": [
    "np.linspace(2.0, 3.0, num=5)"
   ]
  },
  {
   "cell_type": "code",
   "execution_count": 13,
   "metadata": {
    "ExecuteTime": {
     "end_time": "2021-10-14T12:19:58.280211Z",
     "start_time": "2021-10-14T12:19:58.261641Z"
    }
   },
   "outputs": [
    {
     "data": {
      "text/plain": [
       "array([2. , 2.2, 2.4, 2.6, 2.8])"
      ]
     },
     "execution_count": 13,
     "metadata": {},
     "output_type": "execute_result"
    }
   ],
   "source": [
    "np.linspace(2.0, 3.0, num=5, endpoint=False)"
   ]
  },
  {
   "cell_type": "code",
   "execution_count": 14,
   "metadata": {
    "ExecuteTime": {
     "end_time": "2021-10-14T12:20:03.844594Z",
     "start_time": "2021-10-14T12:20:03.830786Z"
    }
   },
   "outputs": [
    {
     "data": {
      "text/plain": [
       "(array([2.  , 2.25, 2.5 , 2.75, 3.  ]), 0.25)"
      ]
     },
     "execution_count": 14,
     "metadata": {},
     "output_type": "execute_result"
    }
   ],
   "source": [
    "np.linspace(2.0, 3.0, num=5, retstep=True)"
   ]
  },
  {
   "cell_type": "code",
   "execution_count": 15,
   "metadata": {
    "ExecuteTime": {
     "end_time": "2021-10-14T12:21:22.197755Z",
     "start_time": "2021-10-14T12:21:21.689812Z"
    }
   },
   "outputs": [
    {
     "data": {
      "image/png": "[encoded data removed]",
      "text/plain": [
       "<Figure size 432x288 with 1 Axes>"
      ]
     },
     "metadata": {
      "needs_background": "light"
     },
     "output_type": "display_data"
    }
   ],
   "source": [
    "import matplotlib.pyplot as plt\n",
    "N = 8\n",
    "y = np.zeros(N)\n",
    "x1 = np.linspace(0, 10, N, endpoint=True)\n",
    "x2 = np.linspace(0, 10, N, endpoint=False)\n",
    "plt.plot(x1, y, 'o')\n",
    "plt.plot(x2, y + 0.5, 'o')\n",
    "plt.ylim([-0.5, 1])\n",
    "plt.show()\n",
    "\n"
   ]
  },
  {
   "cell_type": "markdown",
   "metadata": {},
   "source": [
    "如果需要类似[0., 1., 2.]的浮点数组，可以更改arange输出的类型：arange(3).astype(float)。\n",
    "\n",
    "但是有更好的方法：arange 函数对数据类型敏感，如果将整数作为参数，生成整数数组；如果输入浮点数（例如arange(3.)），则生成浮点数组。\n",
    "\n",
    "但是 arange 在处理浮点数方面并不是特别擅长：\n",
    "\n",
    "![M5zskW](https://upiclw.oss-cn-beijing.aliyuncs.com/uPic/M5zskW.jpg)"
   ]
  },
  {
   "cell_type": "code",
   "execution_count": 32,
   "metadata": {},
   "outputs": [
    {
     "data": {
      "text/plain": [
       "array([0.        , 0.05263158, 0.10526316, 0.15789474, 0.21052632,\n",
       "       0.26315789, 0.31578947, 0.36842105, 0.42105263, 0.47368421,\n",
       "       0.52631579, 0.57894737, 0.63157895, 0.68421053, 0.73684211,\n",
       "       0.78947368, 0.84210526, 0.89473684, 0.94736842, 1.        ])"
      ]
     },
     "execution_count": 32,
     "metadata": {},
     "output_type": "execute_result"
    }
   ],
   "source": [
    "np.linspace(0,1,20)"
   ]
  },
  {
   "cell_type": "code",
   "execution_count": 2,
   "metadata": {},
   "outputs": [
    {
     "ename": "SyntaxError",
     "evalue": "invalid syntax (<ipython-input-2-fc0946c42ca3>, line 1)",
     "output_type": "error",
     "traceback": [
      "\u001b[0;36m  File \u001b[0;32m\"<ipython-input-2-fc0946c42ca3>\"\u001b[0;36m, line \u001b[0;32m1\u001b[0m\n\u001b[0;31m    np.linspace(0,1,?)\u001b[0m\n\u001b[0m                    ^\u001b[0m\n\u001b[0;31mSyntaxError\u001b[0m\u001b[0;31m:\u001b[0m invalid syntax\n"
     ]
    }
   ],
   "source": [
    "np.linspace(0,1,?)"
   ]
  },
  {
   "cell_type": "code",
   "execution_count": 3,
   "metadata": {},
   "outputs": [
    {
     "data": {
      "text/plain": [
       "array([0.        , 0.01010101, 0.02020202, 0.03030303, 0.04040404,\n",
       "       0.05050505, 0.06060606, 0.07070707, 0.08080808, 0.09090909,\n",
       "       0.1010101 , 0.11111111, 0.12121212, 0.13131313, 0.14141414,\n",
       "       0.15151515, 0.16161616, 0.17171717, 0.18181818, 0.19191919,\n",
       "       0.2020202 , 0.21212121, 0.22222222, 0.23232323, 0.24242424,\n",
       "       0.25252525, 0.26262626, 0.27272727, 0.28282828, 0.29292929,\n",
       "       0.3030303 , 0.31313131, 0.32323232, 0.33333333, 0.34343434,\n",
       "       0.35353535, 0.36363636, 0.37373737, 0.38383838, 0.39393939,\n",
       "       0.4040404 , 0.41414141, 0.42424242, 0.43434343, 0.44444444,\n",
       "       0.45454545, 0.46464646, 0.47474747, 0.48484848, 0.49494949,\n",
       "       0.50505051, 0.51515152, 0.52525253, 0.53535354, 0.54545455,\n",
       "       0.55555556, 0.56565657, 0.57575758, 0.58585859, 0.5959596 ,\n",
       "       0.60606061, 0.61616162, 0.62626263, 0.63636364, 0.64646465,\n",
       "       0.65656566, 0.66666667, 0.67676768, 0.68686869, 0.6969697 ,\n",
       "       0.70707071, 0.71717172, 0.72727273, 0.73737374, 0.74747475,\n",
       "       0.75757576, 0.76767677, 0.77777778, 0.78787879, 0.7979798 ,\n",
       "       0.80808081, 0.81818182, 0.82828283, 0.83838384, 0.84848485,\n",
       "       0.85858586, 0.86868687, 0.87878788, 0.88888889, 0.8989899 ,\n",
       "       0.90909091, 0.91919192, 0.92929293, 0.93939394, 0.94949495,\n",
       "       0.95959596, 0.96969697, 0.97979798, 0.98989899, 1.        ])"
      ]
     },
     "execution_count": 3,
     "metadata": {},
     "output_type": "execute_result"
    }
   ],
   "source": [
    "np.linspace(0,1,100)"
   ]
  },
  {
   "cell_type": "markdown",
   "metadata": {},
   "source": [
    "出于测试目的，通常需要生成随机数组，NumPy提供随机整数、均匀分布、正态分布等几种随机数形式：\n",
    "\n",
    "![IQ5t5R](https://upiclw.oss-cn-beijing.aliyuncs.com/uPic/IQ5t5R.jpg)"
   ]
  },
  {
   "cell_type": "code",
   "execution_count": 16,
   "metadata": {
    "ExecuteTime": {
     "end_time": "2021-10-14T13:34:35.339924Z",
     "start_time": "2021-10-14T13:34:35.300717Z"
    }
   },
   "outputs": [
    {
     "data": {
      "text/plain": [
       "array([1, 5, 9])"
      ]
     },
     "execution_count": 16,
     "metadata": {},
     "output_type": "execute_result"
    }
   ],
   "source": [
    "np.random.randint(0,10,3)"
   ]
  },
  {
   "cell_type": "code",
   "execution_count": 17,
   "metadata": {
    "ExecuteTime": {
     "end_time": "2021-10-14T13:34:41.897927Z",
     "start_time": "2021-10-14T13:34:41.881467Z"
    }
   },
   "outputs": [
    {
     "data": {
      "text/plain": [
       "4"
      ]
     },
     "execution_count": 17,
     "metadata": {},
     "output_type": "execute_result"
    }
   ],
   "source": [
    "import random\n",
    "random.randint(0,10)"
   ]
  },
  {
   "cell_type": "code",
   "execution_count": 18,
   "metadata": {
    "ExecuteTime": {
     "end_time": "2021-10-14T13:34:47.440869Z",
     "start_time": "2021-10-14T13:34:47.429086Z"
    }
   },
   "outputs": [
    {
     "data": {
      "text/plain": [
       "array([0.35174757, 0.18254352, 0.37879621])"
      ]
     },
     "execution_count": 18,
     "metadata": {},
     "output_type": "execute_result"
    }
   ],
   "source": [
    "np.random.rand(3)"
   ]
  },
  {
   "cell_type": "code",
   "execution_count": 19,
   "metadata": {
    "ExecuteTime": {
     "end_time": "2021-10-14T13:34:55.308673Z",
     "start_time": "2021-10-14T13:34:55.300871Z"
    }
   },
   "outputs": [
    {
     "data": {
      "text/plain": [
       "array([-0.67626887, -0.10759508,  0.62089706])"
      ]
     },
     "execution_count": 19,
     "metadata": {},
     "output_type": "execute_result"
    }
   ],
   "source": [
    "np.random.randn(3)"
   ]
  },
  {
   "cell_type": "code",
   "execution_count": 20,
   "metadata": {
    "ExecuteTime": {
     "end_time": "2021-10-14T13:34:59.024386Z",
     "start_time": "2021-10-14T13:34:59.010881Z"
    }
   },
   "outputs": [
    {
     "data": {
      "text/plain": [
       "array([6.64436881, 2.65579938, 6.84106783])"
      ]
     },
     "execution_count": 20,
     "metadata": {},
     "output_type": "execute_result"
    }
   ],
   "source": [
    "np.random.uniform(1,10,3)"
   ]
  },
  {
   "cell_type": "code",
   "execution_count": 21,
   "metadata": {
    "ExecuteTime": {
     "end_time": "2021-10-14T13:35:39.161526Z",
     "start_time": "2021-10-14T13:35:39.149101Z"
    }
   },
   "outputs": [
    {
     "data": {
      "text/plain": [
       "array([6.84971801, 6.93090927, 6.12776321])"
      ]
     },
     "execution_count": 21,
     "metadata": {},
     "output_type": "execute_result"
    }
   ],
   "source": [
    "np.random.normal(5,2,3)"
   ]
  },
  {
   "cell_type": "code",
   "execution_count": 22,
   "metadata": {
    "ExecuteTime": {
     "end_time": "2021-10-14T13:36:21.178916Z",
     "start_time": "2021-10-14T13:36:20.923000Z"
    }
   },
   "outputs": [
    {
     "data": {
      "image/png": "[encoded data removed]",
      "text/plain": [
       "<Figure size 432x288 with 1 Axes>"
      ]
     },
     "metadata": {},
     "output_type": "display_data"
    }
   ],
   "source": [
    "import matplotlib.pyplot as plt\n",
    "import matplotlib\n",
    "matplotlib.style.use('ggplot')\n",
    "plt.plot(np.random.rand(30))\n",
    "plt.show()"
   ]
  },
  {
   "cell_type": "markdown",
   "metadata": {},
   "source": [
    "从np.random.normal()到正态分布的拟合\n",
    "\n",
    "先看伟大的高斯分布（Gaussian Distribution）的概率密度函数（probability density function）：\n",
    "\n",
    "![RM3FTU](https://upiclw.oss-cn-beijing.aliyuncs.com/uPic/RM3FTU.png)\n",
    "\n",
    "对应于numpy中：\n",
    "\n",
    "```python\n",
    "\n",
    "numpy.random.normal(loc=0.0, scale=1.0, size=None)\n",
    "\n",
    "```\n",
    "\n",
    "参数的意义为：\n",
    "\n",
    "```\n",
    "loc：float\n",
    "    此概率分布的均值（对应着整个分布的中心centre）\n",
    "scale：float\n",
    "    此概率分布的标准差（对应于分布的宽度，scale越大越矮胖，scale越小，越瘦高）\n",
    "size：int or tuple of ints\n",
    "    输出的shape，默认为None，只输出一个值\n",
    "    \n",
    "```\n",
    "\n",
    "我们更经常会用到的np.random.randn(size)所谓标准正态分布（μ=0,σ=1），对应于np.random.normal(loc=0, scale=1, size)。\n",
    "\n",
    "\n"
   ]
  },
  {
   "cell_type": "code",
   "execution_count": 23,
   "metadata": {
    "ExecuteTime": {
     "end_time": "2021-10-14T14:07:36.062838Z",
     "start_time": "2021-10-14T14:07:35.823305Z"
    }
   },
   "outputs": [
    {
     "data": {
      "image/png": "[encoded data removed]",
      "text/plain": [
       "<Figure size 432x288 with 1 Axes>"
      ]
     },
     "metadata": {},
     "output_type": "display_data"
    }
   ],
   "source": [
    "import matplotlib.pyplot as plt\n",
    "import matplotlib\n",
    "matplotlib.style.use('ggplot')\n",
    "plt.plot(np.random.randn(30))\n",
    "plt.show()"
   ]
  },
  {
   "cell_type": "code",
   "execution_count": 24,
   "metadata": {
    "ExecuteTime": {
     "end_time": "2021-10-14T14:07:43.150564Z",
     "start_time": "2021-10-14T14:07:42.943808Z"
    }
   },
   "outputs": [
    {
     "data": {
      "image/png": "[encoded data removed]",
      "text/plain": [
       "<Figure size 432x288 with 1 Axes>"
      ]
     },
     "metadata": {},
     "output_type": "display_data"
    }
   ],
   "source": [
    "import matplotlib.pyplot as plt\n",
    "import matplotlib\n",
    "matplotlib.style.use('ggplot')\n",
    "plt.plot(np.random.normal(loc=0, scale=1, size=30))\n",
    "plt.show()"
   ]
  },
  {
   "cell_type": "code",
   "execution_count": 26,
   "metadata": {
    "ExecuteTime": {
     "end_time": "2021-10-14T14:10:19.255705Z",
     "start_time": "2021-10-14T14:10:19.234940Z"
    }
   },
   "outputs": [
    {
     "name": "stdout",
     "output_type": "stream",
     "text": [
      "1D Array filled with random values as per gaussian distribution : \n",
      " [-1.48402019e-01  5.16953090e-02  1.94603030e-02  1.49379453e-01\n",
      "  1.05788868e-01  8.40144719e-03 -4.92298660e-02  5.49465512e-02\n",
      "  1.08170655e-01  1.69118494e-01  6.78836791e-02 -2.28407408e-01\n",
      " -4.39607348e-02 -1.20833139e-01 -1.39354424e-01 -4.47561208e-02\n",
      " -1.29591310e-01  6.96790179e-02 -1.20257976e-01 -2.64355304e-02\n",
      "  1.29668194e-01  8.66300087e-02 -2.19991182e-02 -1.05082400e-01\n",
      " -5.12249250e-02 -9.35417328e-02 -3.62836477e-02 -2.52348749e-02\n",
      " -9.32040170e-03 -3.74891654e-02 -1.38821414e-02  7.51375176e-02\n",
      "  4.60392273e-02 -6.85669041e-02 -2.01011779e-02 -5.43085316e-02\n",
      " -4.38084885e-02  2.07767390e-01  5.67308253e-02  9.21263070e-02\n",
      " -5.19985159e-02  1.28425827e-01 -1.16738718e-01 -1.10242138e-01\n",
      " -2.37440789e-01  5.59420132e-02  1.84365986e-02  1.26123235e-02\n",
      "  2.90670440e-01 -2.42806346e-03 -6.84627955e-03  6.79059061e-03\n",
      " -1.71872786e-01 -1.42899756e-02  8.42981095e-02 -1.42258264e-01\n",
      "  1.80709779e-01 -4.74227248e-02 -9.70872681e-02 -9.01660937e-02\n",
      " -5.21163555e-03  3.92408580e-02  8.35136067e-02 -4.50409865e-02\n",
      " -5.01972490e-02  8.16466673e-02  9.21763408e-02  1.83145575e-01\n",
      " -5.83903163e-02  1.78665569e-02 -3.19780361e-02 -1.11174402e-01\n",
      "  4.09126780e-02  5.54488186e-02 -2.44901984e-02  1.83054612e-01\n",
      " -1.07524688e-02 -2.36571708e-02  1.63883116e-01 -7.55102886e-02\n",
      "  1.72998242e-01  6.85727868e-02  4.12053239e-03 -3.95696268e-02\n",
      "  1.60554304e-01 -1.45748323e-01  8.16342010e-02 -2.73672386e-02\n",
      "  4.87096590e-02  1.06409606e-01 -6.77175486e-02  7.12866061e-02\n",
      "  1.05094144e-01  1.66594611e-01  1.54285042e-01 -8.06561306e-02\n",
      "  2.76164370e-02 -1.47788358e-01  8.21453008e-02  7.03500152e-02\n",
      "  9.78154122e-02 -5.91978090e-02  5.84757828e-02 -8.13873100e-02\n",
      "  4.96221943e-02  1.30579039e-02  2.36997426e-02 -3.02833749e-02\n",
      " -1.00919349e-01 -2.02215823e-01 -8.73665662e-02 -6.96629665e-02\n",
      " -7.83320227e-02 -1.21742626e-02 -2.56393074e-02 -3.37571945e-02\n",
      " -1.20484701e-01  1.21659639e-01  7.81516679e-02  1.49109157e-01\n",
      "  6.12951447e-02  1.80801349e-02  1.46137234e-02  2.83163079e-02\n",
      "  1.58164471e-01  1.11116979e-01 -6.40165194e-02 -3.15151799e-03\n",
      " -9.61231562e-02  6.69593256e-03  9.06662730e-03 -3.11836632e-03\n",
      " -6.01162162e-02  1.38333293e-01 -1.01975688e-01 -2.78167032e-02\n",
      " -2.38789677e-02 -7.39880396e-02 -5.49067151e-02  3.87090262e-02\n",
      " -1.23188247e-01  9.16670966e-03  1.36648900e-01 -1.40389570e-01\n",
      " -1.18157424e-01  1.07907808e-02 -1.41049252e-01 -1.70541302e-01\n",
      "  2.15646149e-01 -6.14717314e-02  1.87433010e-01  2.83867050e-01\n",
      " -2.33270677e-02 -1.10553702e-01  1.80331617e-01  4.39212698e-02\n",
      "  1.96455056e-01  7.69246502e-02  1.11348319e-01 -1.67825561e-01\n",
      "  1.16114812e-01 -1.04930704e-01 -8.26040497e-02  7.77299528e-02\n",
      "  4.84989794e-02 -1.32762983e-01 -1.63714406e-01 -5.82306832e-02\n",
      "  1.27318146e-01  6.33374135e-02 -3.50115537e-02  1.42021932e-01\n",
      "  3.72321719e-02 -6.78450471e-02  1.45791615e-01 -7.79545198e-02\n",
      " -2.00980413e-01  6.43164508e-02  2.55018393e-03 -1.89667996e-02\n",
      "  1.15880926e-01  1.27930485e-01  1.97840890e-02  8.03953833e-03\n",
      " -2.56397953e-02 -1.05604085e-01 -5.92199900e-02 -4.76565884e-02\n",
      "  7.39783094e-03  5.64856424e-02 -3.01441379e-02 -3.37835093e-02\n",
      " -1.26293508e-01 -1.97593967e-02 -4.69903371e-04 -7.28868276e-02\n",
      "  4.81509141e-02 -2.87114940e-02  7.09561028e-02 -1.80521426e-01\n",
      "  2.47836895e-01 -5.21060768e-02 -8.42976188e-02 -8.46040239e-02\n",
      "  1.27616813e-01 -9.97725288e-02 -5.32382339e-02 -5.94280554e-02\n",
      " -4.28562734e-02  5.40392604e-02 -7.75951379e-02  1.07515689e-01\n",
      "  5.67538684e-02  4.06442032e-02 -2.53585570e-01  1.16093093e-01\n",
      " -1.43623110e-01  1.02884606e-02 -3.57057394e-02 -3.19122001e-02\n",
      " -2.64400783e-02  4.06705351e-02 -1.11317936e-01 -1.08503154e-01\n",
      "  4.87141267e-02  2.21212038e-01 -5.17475320e-02 -7.36052309e-02\n",
      "  2.15403695e-02  1.70520912e-01 -1.35648412e-02 -1.58611304e-02\n",
      "  1.92791618e-02 -6.72619344e-02  3.76506427e-02 -1.54678169e-02\n",
      " -1.15055887e-02  2.04500841e-02  1.53913349e-01  8.97876498e-02\n",
      " -2.92598642e-02 -1.22355600e-01  5.81145669e-02  1.30415116e-01\n",
      " -1.84446444e-02  1.37201833e-01 -1.47253319e-02  2.51386605e-02\n",
      "  3.96433044e-02  7.40456780e-02  5.94665885e-02  1.62341658e-02\n",
      "  4.53718922e-03 -6.05587048e-02  9.07934206e-02  1.85317103e-02\n",
      " -4.44019895e-02  8.58717042e-02 -1.40386866e-01  1.80113160e-02\n",
      " -1.12018984e-01  2.78103228e-02  1.26594130e-02 -2.12684348e-02\n",
      "  2.14323330e-01  3.69898528e-02  2.15849453e-01 -9.51276926e-02\n",
      "  1.12698489e-02  1.33141582e-03  1.59181237e-02  1.73755939e-01\n",
      " -9.89569650e-02 -3.81117168e-02 -3.33370086e-02  1.41880599e-01\n",
      "  1.31709344e-01 -9.52514233e-02 -9.08323325e-02  2.07647066e-01\n",
      "  3.73975733e-02 -1.00368381e-01 -1.63501048e-01  5.76261003e-02\n",
      " -1.67822005e-02  1.87325344e-02  1.55539593e-01 -9.88964090e-02\n",
      " -6.91938150e-02  4.04284616e-02  1.64499223e-01 -3.57609964e-02\n",
      " -1.19961403e-01  1.15739436e-02 -1.28358581e-01  6.11765235e-02\n",
      " -9.45425841e-02 -1.76220643e-01  8.58057090e-02  6.21825713e-02\n",
      " -7.19031752e-02 -7.65756130e-02 -2.31217799e-01 -3.97520892e-02\n",
      "  1.51415098e-01  1.76284224e-02 -3.38119666e-03 -4.75121596e-02\n",
      "  1.84578104e-01 -2.15280427e-01  4.52915462e-02 -1.43989477e-01\n",
      " -5.44327093e-02 -9.88323129e-02  1.38649227e-01  1.39903053e-01\n",
      "  8.12375749e-02  4.57277057e-02 -1.18551753e-01  9.56926975e-02\n",
      " -4.56244470e-02  9.42107954e-02  1.24146848e-01 -1.22713624e-01\n",
      " -6.98027338e-02  1.26068481e-01 -2.11378322e-02 -4.07900592e-02\n",
      " -7.68304713e-02 -4.07320184e-02  1.23916424e-01 -7.21152348e-02\n",
      " -8.56910628e-02  1.36098475e-01  3.03173868e-02 -5.10979293e-02\n",
      " -1.13693944e-02 -5.97264780e-02 -4.83048235e-02 -1.02006854e-01\n",
      " -1.08085808e-01  6.10429856e-02  9.00748825e-03  7.54392795e-02\n",
      "  5.30735166e-02 -1.23182952e-02 -4.06989923e-02 -7.86112838e-02\n",
      " -4.54321680e-02 -9.89318409e-02 -9.54161656e-03 -1.25170594e-01\n",
      " -2.93834128e-02 -1.96746376e-01  1.81145352e-01  2.32211246e-01\n",
      " -9.97430908e-02  1.62610085e-01 -7.26926190e-02 -1.43236718e-01\n",
      "  1.41892887e-01 -8.22510060e-02 -1.32599775e-01  1.36593949e-01\n",
      " -1.03212136e-01  8.62269854e-02 -2.22208070e-02 -7.02822838e-02\n",
      " -1.05446833e-01 -1.20578148e-01 -9.85564565e-03  5.38793970e-02\n",
      " -4.84510945e-02 -7.11114900e-03  1.33509868e-01  1.90652161e-02\n",
      " -1.06022945e-01  5.07348697e-02 -4.66788859e-02 -3.18314959e-02\n",
      " -4.77303867e-02  1.22118207e-01  8.74959886e-04 -1.35176541e-01\n",
      "  6.61321390e-02  5.95830277e-02 -9.72929829e-02 -1.26834162e-01\n",
      " -1.27115991e-01 -4.95589853e-02  3.24465218e-02  1.75032553e-01\n",
      " -3.25494050e-02 -5.25688959e-03 -6.25984041e-03 -8.64454683e-02\n",
      " -1.81265496e-01 -2.12325867e-01 -1.28073125e-01 -1.61941063e-02\n",
      " -1.94596905e-02  9.16911361e-02 -2.25585469e-02  2.25067848e-01\n",
      "  9.34392164e-02  9.33001726e-02 -5.96096211e-02  2.77567713e-01\n",
      " -1.16188590e-01  2.32741044e-01 -7.94150354e-03 -1.36316097e-01\n",
      " -4.15736612e-02  1.07392325e-01  2.93872844e-02 -4.81199499e-02\n",
      "  7.55652196e-02 -1.44603069e-01  2.13051280e-01 -9.92067755e-02\n",
      " -4.24184043e-02  4.51973056e-02  1.41015770e-01 -5.58822346e-02\n",
      " -6.27588271e-02  1.68711225e-01  1.08042227e-01 -5.63922139e-02\n",
      "  3.61597550e-02  2.15091203e-02 -1.30491756e-01 -4.54725799e-02\n",
      "  5.61266368e-02  6.72584122e-02  2.22154062e-02  3.33496742e-02\n",
      " -1.21713256e-01  3.84260437e-02  8.36519637e-02 -8.64031210e-03\n",
      "  1.47820407e-01 -1.20943977e-01  2.42179304e-02  3.10947201e-02\n",
      " -9.84000885e-02 -3.44299027e-02 -2.43936483e-02  6.29270430e-02\n",
      "  8.85207119e-02 -9.00461304e-02  1.88022727e-01 -1.65711155e-01\n",
      " -2.15489794e-02  2.43320165e-02  8.68669011e-02 -1.45558723e-01\n",
      "  4.29103941e-02 -1.80496714e-02  2.21564801e-02  2.77590602e-02\n",
      "  1.23209198e-01  9.41082830e-02  5.53130243e-03  8.74537735e-02\n",
      " -2.97701601e-02  8.78031947e-02  1.86801536e-01 -1.07581408e-01\n",
      "  6.77182552e-02  5.38455856e-02  9.10268443e-02 -9.14420192e-02\n",
      "  8.41715866e-02  4.18651646e-02  1.17751756e-02  1.69086883e-02\n",
      " -4.76060726e-02  1.39348330e-01  1.18120236e-01 -1.45014401e-01\n",
      " -9.10531603e-02 -1.12767167e-01  8.79064593e-02 -1.27798336e-01\n",
      "  6.49670008e-02  1.30111545e-01 -8.13863039e-03  1.58616274e-02\n",
      " -1.04818516e-02 -1.33332775e-02  1.06765586e-01  1.18999055e-01\n",
      "  1.27410730e-02 -1.40243630e-02  7.95954144e-02 -3.10234143e-03\n",
      " -7.48517432e-02  1.25758159e-02 -9.43605452e-02  4.87823779e-02\n",
      "  2.04599437e-02 -1.03878375e-01  6.08514463e-02  1.19529217e-02\n",
      "  5.76842328e-02  1.29978292e-02 -2.09883533e-02  7.76882570e-02\n",
      "  7.84989884e-03 -1.48732383e-01 -1.31941270e-01  8.23267650e-02\n",
      "  2.80649846e-03  7.01938201e-02  3.93364431e-02  9.23779632e-02\n",
      "  8.56652021e-02  1.46052940e-03  9.45789011e-03 -2.09736047e-02\n",
      " -1.60346717e-01  4.62325262e-03 -1.10502342e-01 -6.90565378e-02\n",
      "  2.74072019e-02  1.13904159e-02 -8.01752107e-02 -2.27584274e-01\n",
      " -7.24911086e-02  1.26104204e-01 -6.19026471e-02  2.13189474e-02\n",
      "  1.19513114e-01  1.53221075e-02  1.23436708e-01  7.03547279e-02\n",
      " -7.52123908e-02  1.10686737e-01  3.48174756e-02  1.18922685e-01\n",
      "  1.29967835e-02 -3.12104135e-02 -1.25790058e-01 -2.82057234e-02\n",
      "  2.06189178e-02  1.75588712e-01 -4.30668961e-02  1.50947963e-01\n",
      " -5.57104069e-03 -1.29452544e-01  3.56675303e-02  5.80556292e-02\n",
      " -3.68763252e-03  1.92920963e-02 -1.41502653e-01 -5.41067412e-02\n",
      "  3.09240004e-02  1.69112204e-01  8.91334723e-02  1.43977205e-01\n",
      " -1.35617119e-01 -1.90918378e-03  1.44287043e-02 -9.35253539e-03\n",
      "  9.33477836e-02  1.56480797e-01 -8.59137647e-02  1.27785813e-01\n",
      " -4.53122731e-02 -2.03860821e-03  1.06664788e-01 -1.59160075e-02\n",
      "  9.62051294e-02  1.42331959e-01 -1.30301978e-02  1.88300124e-01\n",
      " -2.97554763e-01 -3.23601729e-02 -7.46508649e-02  6.54398323e-02\n",
      " -2.46940423e-01 -1.55591900e-02  1.48927530e-01 -3.77826223e-02\n",
      "  1.23565533e-01  7.87510387e-02  2.39458054e-02 -1.33979279e-01\n",
      "  6.82601120e-02  6.98013966e-02  6.60206865e-02  2.66758629e-02\n",
      " -9.17422658e-02 -5.25961419e-02  2.33534210e-01 -3.91950807e-02\n",
      "  1.70172238e-01  1.00714610e-02  3.71309735e-02  2.34792288e-02\n",
      "  8.23035519e-02 -1.02587729e-01 -5.58426717e-02  2.16893109e-01\n",
      " -3.53643285e-02 -9.47691721e-02  6.41405317e-02 -1.04246202e-01\n",
      "  5.99713367e-02  1.51099850e-01  1.93440411e-02 -3.85722808e-02\n",
      " -5.91189671e-02 -1.18106286e-01  1.42116984e-02  1.09575186e-01\n",
      " -7.90741784e-02 -5.20814814e-02  1.90471869e-01 -8.11878327e-02\n",
      " -1.04444962e-01 -5.64656629e-02 -8.85429039e-02  2.94826749e-02\n",
      "  6.54038833e-02 -5.20129190e-02  2.73350223e-01 -2.49986004e-01\n",
      "  1.29286326e-01  7.45316965e-02 -8.38282076e-03 -1.49378485e-02\n",
      " -1.01699616e-01 -1.78239033e-01  5.81362815e-02 -1.85513524e-01\n",
      " -2.02220342e-01  6.55716645e-02 -5.66970286e-02  4.40873617e-02\n",
      " -9.57094723e-02  1.24689599e-01  3.23289913e-02 -6.83270456e-02\n",
      "  2.66803314e-02 -1.30573204e-01 -1.03294860e-01  2.03374531e-02\n",
      "  1.38503729e-01 -1.06706588e-01 -1.40147192e-01 -1.10585763e-01\n",
      "  1.30560918e-01 -5.73664972e-02  7.47703122e-02 -1.56145498e-01\n",
      " -1.57453526e-01 -1.29351539e-01 -3.38128171e-02 -1.25521273e-02\n",
      " -3.04093070e-02 -9.41277555e-02 -1.39861156e-02  1.30984074e-01\n",
      " -3.82174352e-02  1.13645788e-01  5.83286420e-02 -1.00411272e-01\n",
      " -3.51385358e-02  2.08644301e-02 -8.04415845e-02  1.65337055e-01\n",
      " -2.14728028e-02 -6.23306465e-02  5.29864541e-02  2.57848063e-02\n",
      " -1.40318638e-01 -1.41267331e-01 -2.54545643e-01  1.34502688e-01\n",
      "  7.29663282e-02  1.37086734e-01  2.62620207e-02 -6.23088922e-02\n",
      "  1.39234952e-01  1.64140932e-01 -2.30408797e-01 -1.12214911e-01\n",
      " -4.35605671e-02  1.98969827e-02  1.12131599e-01 -5.28971508e-03\n",
      " -1.61303612e-01 -1.01688043e-01 -1.43850470e-01 -1.03180261e-01\n",
      " -2.56100061e-03  1.13786895e-01  2.77137930e-02 -8.23877034e-02\n",
      "  7.50988762e-02  8.43027039e-02 -6.27458729e-02 -1.44840951e-01\n",
      "  1.35118298e-01  8.28788010e-02  7.71927478e-02  2.13204867e-02\n",
      " -8.09606209e-02  5.82142579e-02  6.84350911e-02 -1.70834918e-01\n",
      " -8.83741925e-02  2.24069980e-02 -1.29573734e-01  2.31005073e-01\n",
      "  5.50159314e-03  2.76597087e-02 -1.26325585e-02 -4.23200199e-02\n",
      "  1.00041415e-04  5.45174280e-02  1.00134502e-01 -1.59441362e-01\n",
      "  2.48749137e-01  5.41471136e-02  1.03696783e-01 -1.46858975e-01\n",
      "  1.01187685e-01 -1.24624148e-01  1.75824396e-01  7.73523070e-02\n",
      " -2.15896571e-02  1.96920247e-01  2.97809236e-02  9.40601111e-02\n",
      "  4.60988188e-02  2.24877015e-03 -7.13982255e-02 -1.37721674e-01\n",
      " -6.01067241e-02  2.01628105e-02 -3.15361580e-02  1.64960015e-01\n",
      " -7.98624718e-02  1.87851325e-02  2.01556520e-01  8.44578379e-02\n",
      " -1.80649365e-01  3.83261928e-02  3.84481550e-02  8.28606363e-02\n",
      "  4.38348094e-02 -8.74355429e-02  1.14421729e-01 -2.09419237e-01\n",
      "  3.44435383e-03 -1.09505065e-02 -3.43191993e-02 -1.08508163e-01\n",
      "  1.14960937e-01 -1.14416925e-01  1.20509601e-01  8.20932515e-02\n",
      " -5.96081516e-02  1.28364151e-01  1.16282469e-01  1.40461832e-01\n",
      " -1.09393659e-01  3.47180116e-02  1.97009417e-01  5.05479083e-02\n",
      " -3.45344043e-02  7.84782149e-02 -4.01061967e-02  4.59572019e-02\n",
      " -1.52168343e-01  5.12374634e-02 -5.05492433e-02 -3.50906080e-04\n",
      "  3.27140062e-02  5.19221541e-02  1.67693170e-02  1.55261170e-01\n",
      "  1.92170614e-01  1.35103746e-02 -1.15839658e-02 -1.37915050e-01\n",
      "  1.21561816e-03  3.52794559e-02 -9.96887529e-02  1.71560687e-01\n",
      "  1.86997607e-01 -6.48217238e-02  5.51423446e-02  4.19179458e-02\n",
      " -8.78033622e-02 -4.35014375e-02 -7.14135183e-02  4.95407126e-02\n",
      "  7.64831814e-02  8.67244026e-03 -1.17463261e-01 -1.61639876e-01\n",
      "  2.22393833e-03  1.66298994e-01  8.12376175e-02 -4.50290361e-02\n",
      "  4.92844012e-02 -1.40855999e-02 -8.01051647e-02 -2.03070163e-03\n",
      " -1.27887595e-01  1.23920238e-01 -1.03580745e-01  1.77834365e-04\n",
      " -6.10242973e-02  1.73348058e-01 -1.03794021e-01 -7.37981909e-02\n",
      "  6.26516900e-02 -9.49044444e-02  1.50122471e-01 -6.52782667e-02\n",
      "  4.52260617e-02 -7.98798296e-02 -1.68267064e-02  6.10562902e-02\n",
      " -3.28316313e-01  1.16686176e-01  1.12041052e-02  1.00963090e-02\n",
      "  7.15695662e-02  5.40937867e-02  1.03433853e-03 -9.41687287e-03\n",
      "  1.65694619e-01  9.16263149e-02  6.52776253e-02 -1.05664612e-01\n",
      " -3.72977629e-02  1.24892988e-01 -5.37685225e-02  2.21430820e-02\n",
      " -9.79645225e-02 -1.24021173e-01  4.95538503e-02 -2.66867170e-02\n",
      " -3.18767413e-02  7.06173026e-02  7.80210805e-02 -1.53051421e-01\n",
      "  9.87567445e-02  1.07667414e-01 -5.27807103e-02  1.43962250e-01\n",
      " -1.23034332e-01 -8.25464765e-02 -1.63596842e-02 -8.34886433e-02\n",
      " -4.53355885e-02 -1.25331134e-01  2.33088016e-01  1.34216391e-01\n",
      " -8.42614620e-02  4.93762623e-02 -4.00800704e-02  1.09713641e-01\n",
      "  6.32346844e-02  1.05090227e-01 -2.02056496e-02  7.78883741e-02\n",
      " -1.19151580e-01 -9.93233882e-02  4.86385619e-02 -1.47183774e-01\n",
      " -9.67657353e-02  1.76546413e-01 -7.31417739e-02 -2.56597897e-01\n",
      "  5.86865489e-02 -1.46642234e-02  3.06507066e-02  6.95240012e-02\n",
      " -1.69750033e-02 -8.60253953e-02 -4.10398138e-03  3.36414879e-02\n",
      " -4.64243225e-02 -2.09803732e-02  9.77034517e-02 -1.26476914e-01\n",
      " -8.66109614e-02 -1.39462433e-05  9.88018002e-02 -3.13477345e-02\n",
      "  9.62021063e-02 -7.53633192e-02 -5.78456249e-02  7.19676043e-02\n",
      " -1.04533317e-01  2.38720102e-02 -9.28220508e-02  8.83079719e-02\n",
      "  2.15643162e-02 -1.60029869e-01  4.74840874e-02  2.90082364e-02\n",
      " -1.06610288e-01  7.52203682e-02  2.97327969e-02  1.16359521e-02\n",
      " -1.62842340e-02  1.60453704e-01 -1.81302772e-02 -8.22970223e-02\n",
      " -8.49884516e-02  1.94305074e-01  1.25692367e-01 -4.85975515e-02\n",
      "  8.23076151e-02  4.10289212e-02 -2.43058647e-01 -1.90910848e-01\n",
      " -2.88584182e-02  1.85784254e-02  7.33972083e-02  5.13829938e-02\n",
      " -8.04862456e-02  1.23492460e-01 -3.18525472e-02  8.41317720e-02\n",
      " -1.05089260e-01 -6.00003192e-02 -2.30405727e-01  3.16535670e-02\n",
      " -9.39675764e-02 -1.48639490e-02 -1.41252585e-02  2.11010771e-02\n",
      "  4.09281167e-02  2.61243056e-02 -8.74924152e-03 -1.28510926e-01\n",
      "  5.58758123e-03 -6.81185530e-02  1.10756183e-01 -1.20834831e-02\n",
      " -1.08740482e-01 -8.46652086e-02  3.57702896e-02 -1.04558945e-01\n",
      "  5.22961713e-02 -1.37521288e-01 -5.43576704e-02 -1.91504354e-02\n",
      " -1.90245600e-01  3.97034066e-02  4.19274480e-02 -7.47978663e-02\n",
      "  7.90730612e-02 -4.13431098e-02 -8.00302478e-02 -4.22912442e-02\n",
      " -6.15595683e-02  1.63020077e-01 -1.56218983e-01  6.04140035e-02\n",
      " -7.68714299e-02  1.13504266e-02 -7.51973757e-02 -5.12288853e-03\n",
      " -8.06047293e-02  1.43704154e-02  1.01017696e-01 -1.37276592e-02\n",
      "  7.28617467e-02  8.59661558e-03  2.40950526e-02  2.48235505e-02\n",
      " -9.17940991e-02  1.71294165e-01  3.62513984e-02  5.18326957e-02\n",
      "  1.11075767e-01 -1.59768681e-01  6.23426758e-02  4.85666010e-03\n",
      " -4.13140995e-03  8.18567860e-02  1.70657704e-01  8.38607843e-02\n",
      " -7.93500967e-02  5.40460764e-02  1.78368804e-01  5.51280557e-03\n",
      " -8.14644388e-03 -5.05059229e-02  2.68615145e-02 -1.71990600e-01]\n"
     ]
    }
   ],
   "source": [
    "# Python Program illustrating \n",
    "# graphical representation of  \n",
    "# numpy.random.normal() method \n",
    "# numpy.random.rand() method \n",
    "   \n",
    "import numpy as geek \n",
    "import matplotlib.pyplot as plot \n",
    "   \n",
    "# 1D Array as per Gaussian Distribution \n",
    "mean = 0 \n",
    "std = 0.1\n",
    "array = geek.random.normal(0, 0.1, 1000) \n",
    "print(\"1D Array filled with random values \"\n",
    "      \"as per gaussian distribution : \\n\", array); \n",
    "  "
   ]
  },
  {
   "cell_type": "code",
   "execution_count": 27,
   "metadata": {
    "ExecuteTime": {
     "end_time": "2021-10-14T14:10:32.217651Z",
     "start_time": "2021-10-14T14:10:31.012443Z"
    }
   },
   "outputs": [
    {
     "data": {
      "image/png": "[encoded data removed]",
      "text/plain": [
       "<Figure size 432x288 with 1 Axes>"
      ]
     },
     "metadata": {},
     "output_type": "display_data"
    },
    {
     "name": "stdout",
     "output_type": "stream",
     "text": [
      "1D Array filled with random values : \n",
      " [0.23111829 0.48069627 0.49002089 0.74703127 0.33998728]\n"
     ]
    },
    {
     "data": {
      "image/png": "[encoded data removed]",
      "text/plain": [
       "<Figure size 432x288 with 1 Axes>"
      ]
     },
     "metadata": {},
     "output_type": "display_data"
    }
   ],
   "source": [
    "# Source Code :  \n",
    "# https://docs.scipy.org/doc/numpy-1.13.0/reference/ \n",
    "# generated/numpy-random-normal-1.py \n",
    "count, bins, ignored = plot.hist(array, 30, normed=True) \n",
    "plot.plot(bins, 1/(std * geek.sqrt(2 * geek.pi)) *\n",
    "          geek.exp( - (bins - mean)**2 / (2 * std**2) ), \n",
    "          linewidth=2, color='r') \n",
    "plot.show() \n",
    "  \n",
    "  \n",
    "# 1D Array constructed Randomly \n",
    "random_array = geek.random.rand(5) \n",
    "print(\"1D Array filled with random values : \\n\", random_array) \n",
    "  \n",
    "plot.plot(random_array) \n",
    "plot.show()"
   ]
  },
  {
   "cell_type": "markdown",
   "metadata": {},
   "source": [
    "### 采样（sampling）"
   ]
  },
  {
   "cell_type": "code",
   "execution_count": 28,
   "metadata": {
    "ExecuteTime": {
     "end_time": "2021-10-14T14:10:46.489445Z",
     "start_time": "2021-10-14T14:10:46.467637Z"
    }
   },
   "outputs": [
    {
     "data": {
      "text/plain": [
       "array([-8.12684666e-02, -9.51918511e-02,  2.11933416e-02,  1.48712975e-02,\n",
       "        5.81644287e-02, -5.64093289e-02, -2.86232962e-02, -6.85181159e-05,\n",
       "       -5.45426609e-03, -5.79344210e-02, -3.03737265e-02,  3.46084905e-04,\n",
       "       -2.85196164e-01, -2.15532680e-01, -8.54355499e-02,  5.66797177e-02,\n",
       "       -3.61456384e-02, -4.83947366e-02,  2.29609732e-01, -8.88391751e-02,\n",
       "        1.91730814e-02, -4.11729871e-02,  4.79573492e-02, -1.18701253e-01,\n",
       "        7.71597243e-02,  4.22834300e-02, -3.81118142e-02,  5.15355123e-02,\n",
       "        6.31381033e-02,  1.28922042e-01,  3.11708499e-02, -1.53920349e-02,\n",
       "       -1.58153931e-01,  1.31646883e-02,  5.57162731e-02, -5.64961483e-02,\n",
       "       -5.22412715e-02, -1.40813941e-01,  1.11851082e-01,  2.01596766e-01,\n",
       "        7.86053035e-03,  8.23377807e-03,  5.68382145e-02,  9.99216416e-02,\n",
       "        9.71067606e-02, -5.28041493e-02,  2.31398556e-02,  1.11406913e-01,\n",
       "        1.09862523e-02,  8.21260981e-02,  1.15292417e-01, -1.37616679e-01,\n",
       "        6.46052885e-02, -2.22611243e-02,  3.66852558e-02,  6.79461013e-02,\n",
       "       -7.51944556e-02, -4.29129946e-02,  1.62013105e-01,  7.36938524e-02,\n",
       "       -1.25703482e-01,  5.27081869e-03, -1.98702161e-01,  1.20571242e-01,\n",
       "       -4.92636028e-02, -8.20802372e-02, -1.14672553e-01, -7.32250205e-02,\n",
       "        6.86707844e-02,  8.95903892e-02, -1.03951393e-02, -2.14830850e-01,\n",
       "        1.61769041e-01,  6.81803367e-02,  7.31891773e-02,  2.54752306e-02,\n",
       "       -3.73881388e-02,  1.44335149e-01, -9.33458609e-03,  1.24343521e-03,\n",
       "        8.00078042e-02,  1.12684146e-01, -9.20261514e-02,  5.51314528e-02,\n",
       "        1.72822573e-01, -1.57509685e-01,  1.37673223e-02,  1.16551321e-01,\n",
       "        1.25852374e-01, -7.55493120e-02, -1.11593393e-01,  8.25249653e-02,\n",
       "       -1.62417580e-01,  9.09640419e-02,  4.65904404e-02, -2.13541115e-01,\n",
       "        4.43557734e-02, -6.60139982e-02,  2.81234587e-02,  1.73922007e-02,\n",
       "       -1.52670453e-02, -2.02786970e-01, -3.31060731e-02,  4.35698194e-02,\n",
       "       -1.08520385e-01, -1.20078868e-01, -1.08595155e-01, -2.12395407e-02,\n",
       "        7.63452404e-02,  3.38117373e-02, -1.68155351e-01, -5.62108926e-02,\n",
       "        8.62138011e-02,  1.27590080e-01,  6.18356783e-02,  1.27633484e-01,\n",
       "       -1.18804560e-01,  1.17561490e-02, -5.44000586e-02,  3.19121070e-02,\n",
       "       -1.03403784e-02,  1.50778771e-01,  1.04897673e-01, -1.81130307e-01,\n",
       "       -1.86856869e-02, -2.85410037e-02, -9.69450470e-02,  3.91453962e-02,\n",
       "       -1.27289382e-01,  1.01103913e-01, -4.84038689e-02, -3.84636119e-03,\n",
       "       -5.70576048e-02,  4.26644229e-02, -3.97657254e-02,  1.87732364e-01,\n",
       "        3.13087193e-02, -1.22422033e-01, -9.49489144e-02,  5.31665175e-02,\n",
       "        4.72206569e-02, -4.95489979e-02,  7.95659789e-03, -1.08321952e-01,\n",
       "       -1.06218312e-01,  1.10178635e-01,  1.87430866e-01, -1.75526194e-01,\n",
       "        1.10010633e-01, -9.23054576e-02,  3.38620965e-02,  2.13705761e-01,\n",
       "        7.70319256e-02, -6.28219916e-02, -9.14055841e-02,  3.32846017e-03,\n",
       "       -7.94518873e-04,  8.21842668e-02, -8.87200188e-02, -1.02807849e-01,\n",
       "       -6.40314603e-02, -1.66697693e-02, -2.63655643e-02,  4.46012918e-03,\n",
       "       -5.26336863e-02, -3.24228984e-02,  1.51941033e-02,  2.34094609e-01,\n",
       "        2.32393663e-02,  4.77764184e-03,  1.18469066e-01, -1.52682122e-02,\n",
       "       -6.15828504e-02,  4.83051520e-02, -2.44377854e-01, -9.17741935e-02,\n",
       "        1.87401305e-01,  1.71008876e-01,  1.02886120e-01,  1.56184609e-01,\n",
       "        6.52384327e-02,  8.71164158e-02,  3.55136554e-02, -2.45103548e-02,\n",
       "        1.18590093e-01,  1.46115931e-01,  6.13068219e-02, -6.50051883e-02,\n",
       "        2.82286544e-03,  2.48383840e-03,  8.34560489e-02,  1.28442635e-01,\n",
       "        7.85001808e-02,  7.11882994e-02, -3.73006904e-02,  1.43591520e-02,\n",
       "       -5.81624312e-02,  2.09788097e-02, -1.07994452e-01,  4.46154430e-02,\n",
       "       -5.79236760e-02, -5.05862282e-02, -7.12619369e-02, -1.43982810e-01,\n",
       "        2.69289091e-01,  9.57313259e-02, -3.22937759e-02, -6.67664228e-02,\n",
       "        1.66221819e-01,  1.69651342e-01, -4.65635106e-02,  1.16596978e-02,\n",
       "       -9.26611909e-02,  1.31329047e-01,  7.23221195e-02, -1.39513097e-03,\n",
       "        6.02492150e-02,  2.28614435e-03,  8.07713403e-03, -3.47541924e-02,\n",
       "        5.86283115e-02,  4.80158720e-02,  5.71510772e-02,  3.43402317e-03,\n",
       "       -7.48618725e-02,  9.42793835e-02, -1.16249456e-02,  1.61366816e-02,\n",
       "        1.17674879e-01, -7.44590699e-02, -4.53955002e-02, -1.54395794e-01,\n",
       "       -1.62273425e-01,  7.55462063e-02,  5.40636303e-02, -1.39852408e-01,\n",
       "       -4.68710034e-03,  3.05419888e-02, -1.87077904e-01, -4.31843456e-02,\n",
       "       -1.14965699e-01, -7.26397379e-02,  1.96550458e-01,  1.53174765e-02,\n",
       "        9.67627995e-02, -1.10475228e-01,  2.99029591e-01, -1.72670825e-01,\n",
       "       -2.13204252e-01,  1.25172695e-01,  4.01641481e-02,  7.39017464e-02,\n",
       "       -2.28220610e-01,  1.40797719e-01,  1.02531239e-01, -6.14353721e-02,\n",
       "       -1.97507134e-01,  1.34062523e-02, -1.01125123e-02,  7.32075935e-02,\n",
       "        8.89595640e-02, -1.10456189e-02, -1.07157636e-01, -9.74644973e-02,\n",
       "        1.09250929e-01,  1.13791411e-01,  1.03302051e-01,  1.97875498e-01,\n",
       "        1.68946476e-01, -5.67885661e-02, -1.85391180e-01, -2.25704767e-02,\n",
       "        5.39076503e-02, -4.59562023e-02,  1.85563559e-01,  8.62460615e-02,\n",
       "        1.34761339e-01,  4.03261208e-02,  5.71033644e-02,  2.57574438e-04,\n",
       "       -2.87743275e-02, -2.30747114e-02, -6.89807398e-02, -4.41201257e-02,\n",
       "       -4.47859597e-02, -2.70348715e-02, -7.81525893e-02,  8.82978751e-02,\n",
       "       -4.25451282e-03, -1.12129985e-01,  1.39631044e-01,  5.25797476e-02,\n",
       "        8.82089008e-02, -7.66996421e-02, -2.04211226e-02, -6.80628271e-02,\n",
       "        2.49640954e-03, -1.35092114e-01, -1.17077352e-01, -1.78798345e-01,\n",
       "       -6.44821102e-02, -6.24222142e-02,  1.57185544e-01, -3.68103714e-02,\n",
       "       -1.59698907e-01,  1.18506636e-01, -6.18430952e-02,  4.44825593e-02,\n",
       "       -9.15047144e-02, -1.30852347e-01,  2.01066109e-01,  3.54866110e-02,\n",
       "        7.50876073e-02,  8.20176360e-02, -2.16542633e-02,  1.09081057e-02,\n",
       "       -1.24723257e-01, -2.16588959e-01, -6.50910902e-02,  2.54701300e-02,\n",
       "       -8.14786881e-02, -1.47087200e-01, -5.57008942e-03, -4.21023158e-02,\n",
       "        1.57224789e-01,  7.72059497e-02,  4.96128541e-02,  5.99453550e-02,\n",
       "       -8.19856772e-02, -1.08468329e-02,  7.99910957e-02,  7.09752801e-02,\n",
       "        1.32218097e-01,  8.41109779e-02,  8.74316834e-02,  1.05793620e-01,\n",
       "       -9.99753947e-02,  9.90083801e-02, -3.05653084e-02, -3.88219839e-02,\n",
       "        7.70796606e-02, -1.18684263e-01, -1.10294423e-01, -1.01222584e-02,\n",
       "        1.78811522e-02, -7.46905381e-02,  8.58608008e-02, -1.36858844e-01,\n",
       "        3.41551856e-02, -1.61153383e-02,  1.50007017e-01,  1.35816768e-01,\n",
       "       -2.49917515e-02,  1.47216512e-02, -8.21294807e-02, -1.92310203e-02,\n",
       "       -4.20875641e-02, -1.17180156e-01, -7.92758076e-03, -2.47345646e-02,\n",
       "       -2.42859073e-02,  1.43595499e-01,  3.92579024e-02, -2.01581571e-01,\n",
       "       -8.03660461e-02, -6.40361387e-02,  1.70572246e-03, -5.56506474e-02,\n",
       "        8.69040664e-02,  8.97600839e-02, -4.80435248e-02, -1.21077620e-01,\n",
       "        8.30977720e-03, -1.45890452e-01, -6.93574911e-02,  4.35441782e-02,\n",
       "        1.09027002e-02,  9.86671135e-03, -5.62797858e-03,  3.40771014e-02,\n",
       "        3.14971134e-02,  1.86500161e-01, -3.24740189e-02, -7.25008093e-02,\n",
       "       -6.89071116e-02,  4.50359774e-02,  2.18864244e-02, -7.50070917e-02,\n",
       "        4.10494707e-02,  2.91679764e-02, -1.59231444e-01, -7.85161828e-02,\n",
       "        9.33429224e-02, -1.05459664e-01, -1.16655101e-01,  8.24109526e-02,\n",
       "       -1.14275870e-01,  7.88058827e-02,  8.72852814e-02,  2.44362558e-02,\n",
       "        6.83074410e-02, -1.28820742e-01, -7.27897801e-02, -2.22777235e-02,\n",
       "       -1.93091074e-01,  4.97140378e-03,  1.30323309e-02, -3.60192538e-02,\n",
       "       -1.07749507e-01,  4.52798650e-02, -1.29920142e-01, -1.10264667e-01,\n",
       "       -9.62692447e-02, -1.18834653e-01, -6.98270314e-03, -4.23566509e-02,\n",
       "       -9.18852698e-02,  2.55774257e-03, -1.36095699e-01, -1.37984479e-01,\n",
       "        1.14958596e-01,  4.95164096e-02, -1.20933357e-01,  1.80012393e-01,\n",
       "        3.09186251e-02,  3.82278031e-03,  5.53214787e-03, -7.99160718e-02,\n",
       "       -8.75432449e-02,  1.61221194e-02,  5.50763209e-03, -9.27108036e-02,\n",
       "       -3.63838111e-02, -8.23169761e-03, -5.15912702e-02,  3.60285233e-02,\n",
       "        2.51757806e-02, -7.34953510e-03,  8.50979820e-02,  1.23378272e-02,\n",
       "        1.91012114e-02, -5.68837773e-02, -1.97286557e-02,  1.08032140e-01,\n",
       "        1.47489713e-01,  1.63618980e-03, -5.23855711e-02, -7.68210011e-02,\n",
       "        1.56142379e-01,  1.41036778e-02, -3.23903410e-01,  1.68296948e-02,\n",
       "        1.14573462e-01, -1.70739311e-01,  9.10988701e-02, -1.05956637e-01,\n",
       "       -1.77924566e-01,  9.81837790e-02, -7.99258148e-02,  5.29640212e-02,\n",
       "        1.22209679e-01,  2.24771214e-01,  1.83149306e-01,  1.62791846e-01,\n",
       "        1.12009428e-01, -1.94162333e-01, -1.06535528e-01,  3.29943604e-03,\n",
       "       -7.38225402e-02, -1.11067317e-01,  6.64832771e-02,  1.10423065e-01,\n",
       "        2.98796160e-02,  8.30874487e-02,  1.57312157e-01,  1.69988941e-01,\n",
       "        1.00196907e-01, -1.42727794e-02, -9.28411119e-02, -1.09143881e-01,\n",
       "       -1.71883706e-01, -9.62242297e-02,  3.53243697e-02,  6.51267354e-02,\n",
       "       -4.95513740e-02,  7.72702070e-02,  5.16765546e-02,  2.08956130e-02,\n",
       "        6.94383227e-02,  6.83054274e-02,  2.83880312e-01, -1.10857901e-01,\n",
       "        3.64186111e-03, -1.72495647e-01,  2.02645327e-01,  1.58465021e-02,\n",
       "       -1.62711951e-01, -3.13799366e-02, -1.28803323e-01,  2.88893324e-02,\n",
       "       -2.68889456e-02,  8.54611514e-03,  6.82177177e-02,  5.60068695e-02,\n",
       "       -7.35785915e-02,  4.14853736e-02, -1.52694969e-03,  1.65435513e-01,\n",
       "       -9.51836519e-03, -1.18254884e-01,  4.44147321e-02,  2.29499747e-02,\n",
       "        1.91178194e-01,  7.75294415e-02, -5.94325859e-03, -7.26816865e-02,\n",
       "        5.92987398e-02,  4.17239315e-02, -3.72011552e-02,  2.46875676e-01,\n",
       "       -1.52684493e-01, -2.12609827e-01,  1.53887215e-01,  2.11054778e-02,\n",
       "        1.63994964e-01, -1.19422698e-01, -4.41139684e-02,  2.66271461e-02,\n",
       "        1.02797840e-01, -1.46347798e-01, -8.35502171e-02,  1.73487716e-01,\n",
       "       -2.56092553e-03, -8.47540149e-02, -5.41174351e-03, -2.08305235e-02,\n",
       "       -6.93760414e-03,  1.43507510e-01,  3.28181680e-02, -9.30495492e-02,\n",
       "       -6.46082450e-02, -5.80199476e-02,  1.04941848e-01, -8.93662365e-02,\n",
       "        1.03136100e-01, -1.12165977e-01,  4.59899621e-02, -7.79915368e-02,\n",
       "       -5.58099201e-02, -3.76382749e-02, -4.70508527e-02,  1.04763397e-01,\n",
       "        2.63567111e-02,  1.72778248e-02, -1.06681957e-01, -1.50689267e-01,\n",
       "        2.92917083e-02,  5.56883057e-02, -1.71434335e-01,  1.24733477e-01,\n",
       "       -1.52820615e-01,  1.97862276e-03,  8.52282589e-02,  2.00528431e-03,\n",
       "       -2.38039174e-02, -7.26410441e-02,  6.69070204e-02,  5.75706066e-02,\n",
       "        5.35063220e-02,  9.45112857e-02,  1.75215506e-01, -4.28391302e-02,\n",
       "       -3.88937617e-02,  2.07116449e-01,  1.46845824e-01, -1.34910960e-01,\n",
       "        3.39118706e-02, -1.08599828e-01,  2.16757525e-01,  1.65089061e-01,\n",
       "       -1.44938569e-02, -2.46749301e-02,  4.38481878e-02, -9.94828063e-02,\n",
       "       -1.17203698e-01,  5.92392168e-02, -1.91549387e-02,  5.98949530e-02,\n",
       "       -7.48644945e-02, -9.35021621e-02, -1.44414569e-01, -6.43798260e-02,\n",
       "       -2.08700419e-01, -1.81088180e-01,  9.98892073e-02,  9.33042141e-02,\n",
       "        1.19523872e-01, -3.71241810e-02,  2.58346884e-02,  1.41659583e-01,\n",
       "       -2.72239959e-02, -8.10520422e-02,  9.72360463e-02, -8.83717354e-03,\n",
       "        3.21888747e-02,  6.66543404e-02, -1.88249124e-01, -1.88768199e-02,\n",
       "        2.52159453e-02,  1.04802524e-03,  3.63678595e-02, -7.90356959e-02,\n",
       "        1.99489674e-02,  8.09719799e-02, -9.50314371e-02, -4.36774654e-02,\n",
       "       -3.34661019e-02,  6.80448926e-02, -1.63007876e-01,  1.21757619e-01,\n",
       "       -8.30049364e-02,  8.28891539e-02,  4.13927638e-02, -4.30769278e-02,\n",
       "        1.14969796e-01,  1.42391293e-01,  2.38081806e-02, -1.37668110e-01,\n",
       "       -2.45280388e-02, -1.67211731e-01,  1.99003620e-01, -1.80987222e-01,\n",
       "       -8.62232768e-02, -4.67789346e-03, -7.92882430e-02, -2.71133594e-03,\n",
       "        8.98008817e-02,  1.35930858e-01, -1.79794292e-01, -1.62567871e-01,\n",
       "        9.82693590e-02,  4.13435653e-02, -9.06127739e-02,  1.94747054e-01,\n",
       "        1.34353956e-01, -1.07245631e-02,  8.92334718e-02, -7.57724807e-02,\n",
       "       -1.59390981e-01, -1.08314145e-01, -1.25803272e-03,  1.86734707e-01,\n",
       "        1.35110602e-02, -4.15852096e-02,  1.02349405e-01,  3.84518722e-02,\n",
       "       -2.42554750e-01,  2.01032135e-01, -1.32313365e-02, -4.06058440e-02,\n",
       "        5.80255914e-02, -2.18634053e-02, -1.73470220e-01, -5.19323081e-02,\n",
       "       -5.74271615e-02, -2.04158492e-02,  8.10165546e-02,  7.98274929e-02,\n",
       "       -8.15482948e-02, -1.08077936e-01,  2.25286820e-01,  1.96218429e-01,\n",
       "       -4.63745754e-02,  1.26583235e-01,  5.93556505e-02, -9.38583560e-02,\n",
       "        3.80317280e-03, -7.19713716e-02, -2.41369715e-02,  1.28930591e-01,\n",
       "        9.32467731e-02,  5.54214185e-02, -1.89390280e-01,  2.75526522e-02,\n",
       "       -6.98263141e-03,  2.22908502e-02, -1.85918987e-02,  6.02841358e-03,\n",
       "       -7.21237473e-02,  1.36294260e-01, -1.70224346e-02,  7.14292303e-02,\n",
       "       -1.09759029e-01,  4.97337347e-02, -1.87902956e-01, -2.30501379e-03,\n",
       "        7.57889738e-03, -2.44017208e-02,  8.88351396e-02, -4.10487883e-02,\n",
       "       -1.02753402e-01,  6.50669123e-02,  6.75390789e-02,  2.27804412e-01,\n",
       "       -1.08166178e-01,  1.86370048e-01, -5.42339696e-02,  7.46641259e-02,\n",
       "       -1.60014822e-02,  6.47631142e-02,  3.42613414e-02, -5.93367302e-02,\n",
       "       -4.43965262e-02,  5.23539546e-03,  7.17960835e-02,  3.76445328e-02,\n",
       "       -1.63237990e-02,  9.14853912e-02,  1.34905369e-01,  9.41178760e-02,\n",
       "       -1.23974103e-01, -1.79684332e-03,  5.27767082e-02,  1.74712088e-02,\n",
       "        1.69003736e-02, -3.23032351e-02,  1.11814493e-01, -1.35606537e-01,\n",
       "        1.98962320e-01,  5.95680915e-02,  1.19256670e-01, -9.51904949e-03,\n",
       "        1.50380828e-01,  2.28760374e-02, -4.55659985e-02,  6.92626700e-02,\n",
       "       -1.97206697e-02, -8.55199210e-02,  2.25747375e-02,  5.04495988e-03,\n",
       "       -3.67459604e-02,  2.35023844e-01,  5.50540945e-02, -4.54111874e-02,\n",
       "       -5.17968144e-03, -1.65907050e-02,  3.24066199e-02,  4.08124844e-03,\n",
       "       -1.08665720e-01, -3.32433573e-02, -7.39924789e-02,  1.12781980e-01,\n",
       "       -2.72689146e-01,  1.25747716e-01,  2.06511479e-01,  1.52881269e-02,\n",
       "       -8.21126502e-02, -1.06074006e-01,  4.21546584e-02,  1.80831229e-02,\n",
       "       -4.95245716e-02,  8.40877800e-02,  2.62011179e-03, -8.23052246e-02,\n",
       "       -7.44045491e-02,  2.36728910e-02, -4.00195868e-02, -7.83792692e-02,\n",
       "        1.41258432e-02, -1.44541798e-02, -1.65585198e-01, -2.02858240e-02,\n",
       "        9.55014437e-02, -3.73690036e-02, -7.00175673e-02,  1.71377023e-02,\n",
       "       -4.85592987e-02,  1.95268813e-01,  2.06341498e-01, -1.57717695e-01,\n",
       "       -8.54012320e-02,  1.25973133e-01,  8.52586395e-03, -5.80069278e-02,\n",
       "       -8.94626886e-02,  1.89354920e-01,  1.11047292e-01,  3.72085346e-03,\n",
       "        1.30435468e-01,  1.74593005e-03,  9.57629612e-02,  1.80128968e-01,\n",
       "        5.20608421e-02, -1.14848489e-01, -1.81373877e-01,  6.93152639e-02,\n",
       "       -3.83214735e-02,  3.22142499e-02, -3.90715359e-02, -1.15437442e-01,\n",
       "       -3.26346027e-02, -2.04901858e-02, -2.30921300e-01, -1.59768112e-02,\n",
       "       -2.53303631e-02, -5.03798009e-02,  1.41545524e-01, -1.31645409e-01,\n",
       "       -2.84671595e-02, -4.44094454e-02,  2.88362510e-02, -5.76177650e-02,\n",
       "        4.60672427e-02, -7.70231135e-02,  1.25628597e-01,  9.23776383e-03,\n",
       "       -2.12255525e-01,  3.35343784e-02,  1.98860342e-01,  2.41822666e-01,\n",
       "       -4.59981465e-02,  8.56051940e-02,  2.27353155e-01, -2.18488222e-02,\n",
       "        2.30711125e-02, -4.99221678e-02, -6.98983919e-02,  1.59112224e-01,\n",
       "        7.22060874e-02, -1.10467593e-01,  2.60616146e-02, -6.39122574e-02,\n",
       "        3.98167570e-02,  1.80099219e-01,  5.90155206e-02, -8.32275009e-02,\n",
       "        2.51116215e-02,  1.22421922e-01, -2.10984430e-02, -4.27834347e-02,\n",
       "        1.63047530e-01, -4.99761673e-02, -9.65640130e-02, -1.54684042e-02,\n",
       "       -9.65189660e-02,  6.04894270e-02,  1.40721201e-02,  8.42349049e-02,\n",
       "       -5.69826324e-02,  6.54845841e-02, -1.06606091e-01, -2.64200191e-03,\n",
       "        7.66331763e-02, -2.23369236e-02, -2.59892970e-02, -2.35170172e-01,\n",
       "        5.67455602e-02, -1.19513894e-01,  1.12263389e-01,  8.91501583e-02,\n",
       "        3.39940262e-02,  1.59377933e-02, -5.85017681e-02,  7.15501705e-02,\n",
       "        6.80165144e-02, -1.28375385e-01,  2.90959756e-02, -2.09299177e-01,\n",
       "       -2.46935716e-01,  4.08549013e-02,  6.91593254e-02, -8.02534518e-02,\n",
       "        1.06542504e-01, -1.44443945e-01, -8.15304770e-03, -3.31892560e-02,\n",
       "        1.43027297e-01,  1.33770699e-01,  8.98619679e-02, -1.03883028e-01,\n",
       "        7.93519021e-02, -7.20178689e-02, -5.22507543e-02, -6.34520281e-02,\n",
       "        1.76948065e-01, -8.67249062e-02,  6.16044450e-02, -1.62464475e-01,\n",
       "        3.49486387e-03, -1.13687759e-01,  8.17915426e-02,  5.64028374e-02,\n",
       "        2.35523312e-02,  6.63992176e-02,  6.82691850e-02,  6.75240182e-02,\n",
       "       -3.84339193e-02, -1.59620152e-01, -8.71558111e-02,  8.92198400e-02,\n",
       "       -2.19311091e-02, -1.69725380e-01,  7.35254790e-02, -2.12871634e-02,\n",
       "       -3.71995153e-02, -1.42001983e-01,  1.84487115e-01,  2.05522595e-03,\n",
       "       -6.67742044e-02,  1.54622537e-01, -3.68159992e-02, -4.06605132e-02,\n",
       "        4.44831526e-05, -9.07264715e-02,  1.20746455e-01, -1.02601529e-01,\n",
       "        7.39073088e-02, -1.66574189e-03,  1.33845039e-01,  1.57637204e-01,\n",
       "       -5.09995781e-02, -7.05842253e-02, -1.96781506e-02, -1.14342229e-01,\n",
       "       -8.39806452e-02, -2.93105980e-02, -6.87233666e-02,  5.88380554e-02,\n",
       "       -8.02054904e-02,  1.93846765e-01,  1.64878266e-02,  7.42693982e-02,\n",
       "        2.20540252e-02,  1.89913683e-02,  1.75768013e-01,  5.28164953e-02,\n",
       "        6.39200371e-02,  7.97062299e-02, -8.49891908e-02, -1.08495451e-01,\n",
       "        5.40982459e-02,  1.27977187e-01, -9.45011709e-02,  1.01125352e-01,\n",
       "       -1.61762935e-01,  7.36749831e-02, -3.34784375e-02, -5.28394485e-02,\n",
       "        5.81505911e-02, -3.29639112e-02,  1.18125726e-01,  6.88960258e-02,\n",
       "        1.57289360e-01,  1.23869865e-01, -4.68028764e-02,  1.27541003e-02,\n",
       "       -3.85917087e-02, -4.25385549e-02,  6.17466610e-02, -2.61970929e-01,\n",
       "       -1.80684170e-02,  3.16613742e-02, -1.59912963e-02,  3.51721960e-02,\n",
       "        2.25747316e-02,  9.11776873e-02,  5.29905456e-02, -1.80139771e-01,\n",
       "       -1.27888637e-02, -9.52917148e-02, -2.26706390e-02,  1.51075107e-01,\n",
       "       -1.75638550e-02, -1.54975540e-01, -1.21286299e-01,  3.88603801e-02,\n",
       "       -4.27172555e-02, -1.29486880e-02,  1.21348319e-01, -5.02199447e-02,\n",
       "       -3.06450302e-02,  2.56421953e-02, -8.40765107e-02, -1.00700046e-02,\n",
       "       -2.00060873e-02,  2.68855063e-01, -4.20974707e-02,  7.84067956e-02,\n",
       "        6.74897783e-02, -1.04725887e-03,  8.28447211e-02, -3.31532375e-02,\n",
       "       -1.86442618e-02, -2.53674235e-01, -1.26110243e-01,  4.70370471e-02,\n",
       "        4.07356069e-02, -1.11375467e-02,  1.75435257e-02, -4.31333828e-02])"
      ]
     },
     "execution_count": 28,
     "metadata": {},
     "output_type": "execute_result"
    }
   ],
   "source": [
    "# 从某一分布（由均值和标准差标识）中获得样本\n",
    "mu, sigma = 0, .1\n",
    "s = np.random.normal(loc=mu, scale=sigma, size=1000)\n",
    "s"
   ]
  },
  {
   "cell_type": "markdown",
   "metadata": {},
   "source": [
    "### 校验均值和方差："
   ]
  },
  {
   "cell_type": "code",
   "execution_count": 30,
   "metadata": {
    "ExecuteTime": {
     "end_time": "2021-10-14T14:16:43.836809Z",
     "start_time": "2021-10-14T14:16:43.830914Z"
    }
   },
   "outputs": [
    {
     "data": {
      "text/plain": [
       "False"
      ]
     },
     "execution_count": 30,
     "metadata": {},
     "output_type": "execute_result"
    }
   ],
   "source": [
    "# mu = 0\n",
    "# np.mean(s) 均值\n",
    "abs(mu < np.mean(s)) < .01"
   ]
  },
  {
   "cell_type": "code",
   "execution_count": 31,
   "metadata": {
    "ExecuteTime": {
     "end_time": "2021-10-14T14:16:51.588116Z",
     "start_time": "2021-10-14T14:16:51.581839Z"
    }
   },
   "outputs": [
    {
     "data": {
      "text/plain": [
       "True"
      ]
     },
     "execution_count": 31,
     "metadata": {},
     "output_type": "execute_result"
    }
   ],
   "source": [
    "abs(sigma-np.std(s, ddof=1)) < .01\n",
    "# ddof，delta degrees of freedom，表示自由度\n",
    "# 一般取1，表示无偏估计， "
   ]
  },
  {
   "cell_type": "markdown",
   "metadata": {},
   "source": [
    "### 拟合\n",
    "\n",
    "\n",
    "我们看使用matplotlib.pyplot便捷而强大的语法如何进行高斯分布的拟合："
   ]
  },
  {
   "cell_type": "code",
   "execution_count": 32,
   "metadata": {
    "ExecuteTime": {
     "end_time": "2021-10-14T14:18:08.127224Z",
     "start_time": "2021-10-14T14:18:07.822029Z"
    }
   },
   "outputs": [
    {
     "data": {
      "image/png": "[encoded data removed]",
      "text/plain": [
       "<Figure size 720x288 with 1 Axes>"
      ]
     },
     "metadata": {},
     "output_type": "display_data"
    }
   ],
   "source": [
    "import matplotlib.pyplot as plt\n",
    "\n",
    "plt.rcParams['figure.figsize'] = 10, 4\n",
    "\n",
    "# count, bins, _ = plt.hist(s, bins=30, normed=True)\n",
    "# 解决方法\n",
    "# 原因是这个库更新了，已经没有这个属性了。把代码中的 normed 删掉（不报错了，不过好像画不出来了）\n",
    "count, bins, _ = plt.hist(s, bins=30, density=True,stacked=True)"
   ]
  },
  {
   "cell_type": "code",
   "execution_count": 38,
   "metadata": {
    "ExecuteTime": {
     "end_time": "2021-10-14T14:41:31.476401Z",
     "start_time": "2021-10-14T14:41:31.188222Z"
    }
   },
   "outputs": [
    {
     "data": {
      "image/png": "[encoded data removed]",
      "text/plain": [
       "<Figure size 720x288 with 1 Axes>"
      ]
     },
     "metadata": {},
     "output_type": "display_data"
    }
   ],
   "source": [
    "# normed是进行拟合的关键\n",
    "# count统计某一bin出现的次数，在Normed为True时，可能其值会略有不同\n",
    "\n",
    "plt.plot(bins, \n",
    "         1./(np.sqrt(2*np.pi)*sigma)*np.exp(-(bins-mu)**2/(2*sigma**2) ))\n",
    "plt.show()"
   ]
  },
  {
   "cell_type": "code",
   "execution_count": 35,
   "metadata": {
    "ExecuteTime": {
     "end_time": "2021-10-14T14:40:35.313926Z",
     "start_time": "2021-10-14T14:40:34.894798Z"
    }
   },
   "outputs": [
    {
     "data": {
      "image/png": "[encoded data removed]",
      "text/plain": [
       "<Figure size 720x288 with 1 Axes>"
      ]
     },
     "metadata": {},
     "output_type": "display_data"
    }
   ],
   "source": [
    "import pandas as pd\n",
    "import numpy as np\n",
    "from pandas import Series, DataFrame\n",
    "\n",
    "series=Series(np.random.rand(300))\n",
    "series.plot()\n",
    "plt.show()"
   ]
  },
  {
   "cell_type": "code",
   "execution_count": 36,
   "metadata": {
    "ExecuteTime": {
     "end_time": "2021-10-14T14:40:44.629419Z",
     "start_time": "2021-10-14T14:40:44.341554Z"
    }
   },
   "outputs": [
    {
     "data": {
      "image/png": "[encoded data removed]",
      "text/plain": [
       "<Figure size 720x288 with 1 Axes>"
      ]
     },
     "metadata": {},
     "output_type": "display_data"
    }
   ],
   "source": [
    "import pandas as pd\n",
    "import numpy as np\n",
    "from pandas import Series, DataFrame\n",
    "\n",
    "series=Series(np.random.normal(50,100,60))\n",
    "series.plot()\n",
    "plt.show()"
   ]
  },
  {
   "cell_type": "code",
   "execution_count": 39,
   "metadata": {
    "ExecuteTime": {
     "end_time": "2021-10-14T14:42:49.429683Z",
     "start_time": "2021-10-14T14:42:49.139407Z"
    }
   },
   "outputs": [
    {
     "data": {
      "image/png": "[encoded data removed]",
      "text/plain": [
       "<Figure size 720x288 with 1 Axes>"
      ]
     },
     "metadata": {},
     "output_type": "display_data"
    }
   ],
   "source": [
    "import pandas as pd\n",
    "import numpy as np\n",
    "from pandas import Series, DataFrame\n",
    "\n",
    "series=Series(np.random.normal(50,100,60))\n",
    "plt.hist(series)\n",
    "plt.show()"
   ]
  },
  {
   "cell_type": "markdown",
   "metadata": {},
   "source": [
    "### 向量索引\n",
    "\n",
    "一旦将数据存储在数组中，NumPy便会提供简单的方法将其取出：\n",
    "\n",
    "![pvrlh3](https://upiclw.oss-cn-beijing.aliyuncs.com/uPic/pvrlh3.jpg)"
   ]
  },
  {
   "cell_type": "code",
   "execution_count": 40,
   "metadata": {
    "ExecuteTime": {
     "end_time": "2021-10-14T14:44:43.504913Z",
     "start_time": "2021-10-14T14:44:43.498948Z"
    }
   },
   "outputs": [
    {
     "data": {
      "text/plain": [
       "array([1, 2, 3, 4, 5])"
      ]
     },
     "execution_count": 40,
     "metadata": {},
     "output_type": "execute_result"
    }
   ],
   "source": [
    "a = np.arange(1,6)\n",
    "a"
   ]
  },
  {
   "cell_type": "code",
   "execution_count": 41,
   "metadata": {
    "ExecuteTime": {
     "end_time": "2021-10-14T14:44:45.746209Z",
     "start_time": "2021-10-14T14:44:45.737747Z"
    }
   },
   "outputs": [
    {
     "data": {
      "text/plain": [
       "2"
      ]
     },
     "execution_count": 41,
     "metadata": {},
     "output_type": "execute_result"
    }
   ],
   "source": [
    "a[1]"
   ]
  },
  {
   "cell_type": "code",
   "execution_count": 42,
   "metadata": {
    "ExecuteTime": {
     "end_time": "2021-10-14T14:45:38.952738Z",
     "start_time": "2021-10-14T14:45:38.946200Z"
    }
   },
   "outputs": [
    {
     "data": {
      "text/plain": [
       "array([3, 4])"
      ]
     },
     "execution_count": 42,
     "metadata": {},
     "output_type": "execute_result"
    }
   ],
   "source": [
    "a[2:4]"
   ]
  },
  {
   "cell_type": "code",
   "execution_count": 43,
   "metadata": {
    "ExecuteTime": {
     "end_time": "2021-10-14T14:45:40.429762Z",
     "start_time": "2021-10-14T14:45:40.424673Z"
    }
   },
   "outputs": [
    {
     "data": {
      "text/plain": [
       "array([4, 5])"
      ]
     },
     "execution_count": 43,
     "metadata": {},
     "output_type": "execute_result"
    }
   ],
   "source": [
    "a[-2:]"
   ]
  },
  {
   "cell_type": "code",
   "execution_count": 44,
   "metadata": {
    "ExecuteTime": {
     "end_time": "2021-10-14T14:45:41.016806Z",
     "start_time": "2021-10-14T14:45:41.009417Z"
    }
   },
   "outputs": [
    {
     "data": {
      "text/plain": [
       "array([1, 3, 5])"
      ]
     },
     "execution_count": 44,
     "metadata": {},
     "output_type": "execute_result"
    }
   ],
   "source": [
    "a[::2]"
   ]
  },
  {
   "cell_type": "code",
   "execution_count": 45,
   "metadata": {
    "ExecuteTime": {
     "end_time": "2021-10-14T14:45:41.955623Z",
     "start_time": "2021-10-14T14:45:41.949480Z"
    }
   },
   "outputs": [
    {
     "data": {
      "text/plain": [
       "array([2, 4, 5])"
      ]
     },
     "execution_count": 45,
     "metadata": {},
     "output_type": "execute_result"
    }
   ],
   "source": [
    "a[[1,3,4]]"
   ]
  },
  {
   "cell_type": "code",
   "execution_count": 46,
   "metadata": {
    "ExecuteTime": {
     "end_time": "2021-10-14T14:45:42.722415Z",
     "start_time": "2021-10-14T14:45:42.717854Z"
    }
   },
   "outputs": [
    {
     "data": {
      "text/plain": [
       "array([1, 2, 0, 0, 5])"
      ]
     },
     "execution_count": 46,
     "metadata": {},
     "output_type": "execute_result"
    }
   ],
   "source": [
    "a[2:4] = 0\n",
    "a"
   ]
  },
  {
   "cell_type": "markdown",
   "metadata": {},
   "source": [
    "上面展示了各式各样的索引，例如取出某个特定区间，从右往左索引、只取出奇数位等等。\n",
    "\n",
    "但它们都是所谓的view，也就是不存储原始数据。并且如果原始数组在被索引后进行更改，则不会反映原始数组的改变。\n",
    "\n",
    "这些索引方法允许分配修改原始数组的内容，因此需要特别注意：只有下面最后一种方法才是复制数组，如果用其他方法都可能破坏原始数据：\n",
    "\n",
    "![sQogqW](https://upiclw.oss-cn-beijing.aliyuncs.com/uPic/sQogqW.jpg)\n",
    "\n",
    "从NumPy数组中获取数据的另一种超级有用的方法是布尔索引，它允许使用各种逻辑运算符，来检索符合条件的元素：\n",
    "\n",
    "![bNw2ac](https://upiclw.oss-cn-beijing.aliyuncs.com/uPic/bNw2ac.jpg)\n",
    "\n",
    "注意：Python中的三元比较3<=a<=5在NumPy数组中不起作用。\n",
    "\n",
    "如上所述，布尔索引也会改写数组。它有两个常见的函数，分别是np.where和np.clip：\n",
    "\n",
    "![xCjemv](https://upiclw.oss-cn-beijing.aliyuncs.com/uPic/xCjemv.jpg)"
   ]
  },
  {
   "cell_type": "markdown",
   "metadata": {},
   "source": [
    "### 向量运算\n",
    "\n",
    "算术运算是NumPy速度最引入注目的地方之一。NumPy的向量运算符已达到C++级别，避免了Python的慢循环。\n",
    "\n",
    "NumPy允许像普通数字一样操作整个数组（加减乘除、整除、幂）：\n",
    "\n",
    "![rGPcxb](https://upiclw.oss-cn-beijing.aliyuncs.com/uPic/rGPcxb.jpg)\n",
    "\n",
    "> 和Python中一样，a//b表示div b（整除），x**n表示xⁿ\n",
    "\n",
    "向量还可以与标量进行类似的运算，方法相同：\n",
    "\n",
    "![vQCvov](https://upiclw.oss-cn-beijing.aliyuncs.com/uPic/vQCvov.jpg)\n",
    "\n",
    "大多数的数学函数都有NumPy对应项用于处理向量：\n",
    "\n",
    "![IekcAX](https://upiclw.oss-cn-beijing.aliyuncs.com/uPic/IekcAX.jpg)\n",
    "\n",
    "向量的点积、叉积也有运算符：\n",
    "\n",
    "![SPl3BA](https://upiclw.oss-cn-beijing.aliyuncs.com/uPic/SPl3BA.jpg)\n",
    "\n",
    "![lIfWOp](https://upiclw.oss-cn-beijing.aliyuncs.com/uPic/lIfWOp.jpg)\n",
    "\n",
    "![sFDAcF](https://upiclw.oss-cn-beijing.aliyuncs.com/uPic/sFDAcF.jpg)\n",
    "\n",
    "a和b的点积公式为：\n",
    "\n",
    "![VmTj4f](https://upiclw.oss-cn-beijing.aliyuncs.com/uPic/VmTj4f.jpg)\n",
    "\n",
    "两个向量的叉乘，又叫向量积、外积、叉积，叉乘的运算结果是一个向量而不是一个标量。并且两个向量的叉积与这两个向量组成的坐标平面垂直。\n",
    "\n",
    "对于向量a和向量b：\n",
    "\n",
    "![M339Ia](https://upiclw.oss-cn-beijing.aliyuncs.com/uPic/M339Ia.jpg)\n",
    "\n",
    "a和b的叉乘公式为：\n",
    "\n",
    "![jsEtAV](https://upiclw.oss-cn-beijing.aliyuncs.com/uPic/jsEtAV.jpg)\n",
    "\n",
    "\n",
    "\n",
    "![R0iic9](https://upiclw.oss-cn-beijing.aliyuncs.com/uPic/R0iic9.jpg)\n",
    "\n",
    "我们也可以进行三角函数、反三角函数、求斜边运算：\n",
    "\n",
    "![ckqK9p](https://upiclw.oss-cn-beijing.aliyuncs.com/uPic/ckqK9p.jpg)"
   ]
  },
  {
   "cell_type": "code",
   "execution_count": 47,
   "metadata": {
    "ExecuteTime": {
     "end_time": "2021-10-14T16:46:53.310967Z",
     "start_time": "2021-10-14T16:46:52.792436Z"
    }
   },
   "outputs": [
    {
     "data": {
      "image/png": "[encoded data removed]",
      "text/plain": [
       "<Figure size 720x288 with 1 Axes>"
      ]
     },
     "metadata": {},
     "output_type": "display_data"
    }
   ],
   "source": [
    "import matplotlib.pylab as plt\n",
    "x = np.linspace(-np.pi, np.pi, 201)\n",
    "plt.plot(x, np.sin(x))\n",
    "plt.xlabel('Angle [rad]')\n",
    "plt.ylabel('sin(x)')\n",
    "plt.axis('tight')\n",
    "plt.show()"
   ]
  },
  {
   "cell_type": "code",
   "execution_count": 48,
   "metadata": {
    "ExecuteTime": {
     "end_time": "2021-10-15T10:58:28.174099Z",
     "start_time": "2021-10-15T10:58:27.670131Z"
    }
   },
   "outputs": [
    {
     "data": {
      "image/png": "[encoded data removed]",
      "text/plain": [
       "<Figure size 720x288 with 1 Axes>"
      ]
     },
     "metadata": {},
     "output_type": "display_data"
    }
   ],
   "source": [
    "import matplotlib.pyplot as plt\n",
    "x = np.linspace(-1, 1, num=100)\n",
    "plt.plot(x, np.arccos(x))\n",
    "plt.axis('tight')\n",
    "plt.show()"
   ]
  },
  {
   "cell_type": "markdown",
   "metadata": {},
   "source": [
    "数组可以四舍五入为整数：\n",
    "\n",
    "![2JhPrH](https://upiclw.oss-cn-beijing.aliyuncs.com/uPic/2JhPrH.jpg)\n",
    "\n",
    "NumPy还可以执行以下基本的统计运算（最大最小值、平均值、方差、标准差）：\n",
    "\n",
    "![tTWSxh](https://upiclw.oss-cn-beijing.aliyuncs.com/uPic/tTWSxh.jpg)\n",
    "\n",
    "不过排序函数的功能比Python列表对应函数更少：\n",
    "\n",
    "![QByM8B](https://upiclw.oss-cn-beijing.aliyuncs.com/uPic/QByM8B.jpg)"
   ]
  },
  {
   "cell_type": "markdown",
   "metadata": {},
   "source": [
    "### 搜索向量中的元素\n",
    "\n",
    "与Python列表相反，NumPy数组没有index方法。\n",
    "\n",
    "![MCQxik](https://upiclw.oss-cn-beijing.aliyuncs.com/uPic/MCQxik.jpg)\n",
    "\n",
    "* 查找元素的一种方法是np.where(a==x)[0][0]，它既不优雅也不快速，因为要查找的项需要从开头遍历数组的所有元素。\n",
    "\n",
    "* 更快的方式是通过Numba中的next((i[0] for i, v in np.ndenumerate(a) if v==x), -1)来加速。\n",
    "\n",
    "* 一旦对数组进行排序，情况就会变得更好：v = np.searchsorted(a, x); return v if a[v]==x else -1的复杂度为O(log N)，确实非常快，但是首先需要O(N log N)的排序时间。\n",
    "\n",
    "### 比较浮点数\n",
    "\n",
    "函数np.allclose(a, b)用于比较具有给定公差的浮点数组：\n",
    "\n",
    "![yf767T](https://upiclw.oss-cn-beijing.aliyuncs.com/uPic/yf767T.jpg)\n",
    "\n",
    "* np.allclose假设所有的比较数字的等级是1个单位。例如在上图中，它就认为1e-9和2e-9相同，如果要进行更细致的比较，需要通过atol指定比较等级1：np.allclose(1e-9, 2e-9, atol=1e-17) == False。\n",
    "\n",
    "* math.isclose进行比较没有假设前提，而是基于用户给出的一个合理abs_tol值：math.isclose(0.1+0.2–0.3, abs_tol=1e-8) == True。\n",
    "\n",
    "除此之外np.allclose在绝对和相对公差公式中还存在一些小问题，例如，对某些数存在allclose(a, b) != allclose(b, a)。这些问题已在math.isclose函数中得到解决。\n",
    "\n",
    "### 矩阵运算\n",
    "\n",
    "NumPy中曾经有一个专用的类matrix，但现在已弃用，因此下面将交替使用矩阵和2D数组两个词。\n",
    "\n",
    "矩阵初始化语法与向量相似：\n",
    "\n",
    "![3ub4C1](https://upiclw.oss-cn-beijing.aliyuncs.com/uPic/3ub4C1.jpg)\n",
    "\n",
    "这里需要双括号，因为第二个位置参数是为dtype保留的。\n",
    "\n",
    "随机矩阵的生成也类似于向量的生成：\n",
    "\n",
    "![lE7ceP](https://upiclw.oss-cn-beijing.aliyuncs.com/uPic/lE7ceP.jpg)\n",
    "\n",
    "二维索引语法比嵌套列表更方便：\n",
    "\n",
    "![GehyDu](https://upiclw.oss-cn-beijing.aliyuncs.com/uPic/GehyDu.jpg)\n",
    "\n",
    "和一维数组一样，上图的view表示，切片数组实际上并未进行任何复制。修改数组后，更改也将反映在切片中。\n",
    "\n",
    "### axis参数\n",
    "\n",
    "在许多操作（例如求和）中，我们需要告诉NumPy是否要跨行或跨列进行操作。为了使用任意维数的通用表示法，NumPy引入了axis的概念：axis参数实际上是所讨论索引的数量：第一个索引是axis=0，第二个索引是axis=1，等等。\n",
    "\n",
    "因此在二维数组中，如果axis=0是按列，那么axis=1就是按行。\n",
    "\n",
    "\n",
    "![b2Sqyx](https://upiclw.oss-cn-beijing.aliyuncs.com/uPic/b2Sqyx.jpg)"
   ]
  },
  {
   "cell_type": "code",
   "execution_count": 13,
   "metadata": {},
   "outputs": [
    {
     "data": {
      "text/plain": [
       "array([[1, 2, 3],\n",
       "       [4, 5, 6]])"
      ]
     },
     "execution_count": 13,
     "metadata": {},
     "output_type": "execute_result"
    }
   ],
   "source": [
    "a = np.array([[1,2,3],[4,5,6]])\n",
    "a"
   ]
  },
  {
   "cell_type": "code",
   "execution_count": 14,
   "metadata": {},
   "outputs": [
    {
     "data": {
      "text/plain": [
       "21"
      ]
     },
     "execution_count": 14,
     "metadata": {},
     "output_type": "execute_result"
    }
   ],
   "source": [
    "a.sum()"
   ]
  },
  {
   "cell_type": "code",
   "execution_count": 15,
   "metadata": {},
   "outputs": [
    {
     "data": {
      "text/plain": [
       "array([5, 7, 9])"
      ]
     },
     "execution_count": 15,
     "metadata": {},
     "output_type": "execute_result"
    }
   ],
   "source": [
    "a.sum(axis=0)"
   ]
  },
  {
   "cell_type": "code",
   "execution_count": 16,
   "metadata": {},
   "outputs": [
    {
     "data": {
      "text/plain": [
       "2.0"
      ]
     },
     "execution_count": 16,
     "metadata": {},
     "output_type": "execute_result"
    }
   ],
   "source": [
    "np.round(2.5)"
   ]
  },
  {
   "cell_type": "code",
   "execution_count": 17,
   "metadata": {},
   "outputs": [
    {
     "data": {
      "text/plain": [
       "2.0"
      ]
     },
     "execution_count": 17,
     "metadata": {},
     "output_type": "execute_result"
    }
   ],
   "source": [
    "np.round(1.5)"
   ]
  },
  {
   "cell_type": "markdown",
   "metadata": {},
   "source": [
    "原因：\n",
    "从统计学的角度，“奇进偶舍”比“四舍五入”更为精确：在大量运算时，因为舍入后的结果有的变大，有的变小，可使舍入后的结果误差均值趋于零。而不是像四舍五入那样逢五就进位，导致结果偏向大数，使得误差产生积累进而产生系统误差。"
   ]
  },
  {
   "cell_type": "markdown",
   "metadata": {},
   "source": [
    "### 矩阵运算\n",
    "\n",
    "除了普通的运算符（如+，-，*，/，//和**）以元素方式计算外，还有一个@运算符可计算矩阵乘积：\n",
    "\n",
    "![Oe9z6W](https://upiclw.oss-cn-beijing.aliyuncs.com/uPic/Oe9z6W.jpg)\n",
    "\n",
    "在第一部分中，我们已经看到向量乘积的运算，NumPy允许向量和矩阵之间，甚至两个向量之间进行元素的混合运算：\n",
    "\n",
    "![TlDlf9](https://upiclw.oss-cn-beijing.aliyuncs.com/uPic/TlDlf9.jpg)\n",
    "\n",
    "\n",
    "### 行向量与列向量\n",
    "\n",
    "从上面的示例可以看出，在二维数组中，行向量和列向量被不同地对待。\n",
    "\n",
    "默认情况下，一维数组在二维操作中被视为行向量。因此，将矩阵乘以行向量时，可以使用(n，)或(1，n)，结果将相同。\n",
    "\n",
    "如果需要列向量，则有转置方法对其进行操作：\n",
    "\n",
    "![DbFVpk](https://upiclw.oss-cn-beijing.aliyuncs.com/uPic/DbFVpk.jpg)\n",
    "\n",
    "能够从一维数组中生成二位数组列向量的两个操作是使用命令reshape重排和newaxis建立新索引：\n",
    "\n",
    "![VPyQ47](https://upiclw.oss-cn-beijing.aliyuncs.com/uPic/VPyQ47.jpg)\n",
    "\n",
    "\n",
    "这里的-1参数表示reshape自动计算第二个维度上的数组长度，None在方括号中充当np.newaxis的快捷方式，该快捷方式在指定位置添加了一个空axis。\n",
    "\n",
    "因此，NumPy中总共有三种类型的向量：一维数组，二维行向量和二维列向量。这是两者之间显式转换的示意图：\n",
    "\n",
    "![Z55O17](https://upiclw.oss-cn-beijing.aliyuncs.com/uPic/Z55O17.jpg)\n",
    "\n",
    "\n",
    "根据规则，一维数组被隐式解释为二维行向量，因此通常不必在这两个数组之间进行转换，相应区域用灰色标出。\n",
    "\n",
    "### 矩阵操作\n",
    "\n",
    "连接矩阵有两个主要函数：\n",
    "\n",
    "![gPrPfd](https://upiclw.oss-cn-beijing.aliyuncs.com/uPic/gPrPfd.jpg)\n",
    "\n",
    "\n",
    "这两个函数只堆叠矩阵或只堆叠向量时，都可以正常工作。但是当涉及一维数组与矩阵之间的混合堆叠时，vstack可以正常工作：hstack会出现尺寸不匹配错误。\n",
    "\n",
    "因为如上所述，一维数组被解释为行向量，而不是列向量。解决方法是将其转换为列向量，或者使用column_stack自动执行：\n",
    "\n",
    "![8hd3Hb](https://upiclw.oss-cn-beijing.aliyuncs.com/uPic/8hd3Hb.jpg)\n",
    "\n",
    "堆叠的逆向操作是分裂：\n",
    "\n",
    "![DwgOjy](https://upiclw.oss-cn-beijing.aliyuncs.com/uPic/DwgOjy.jpg)\n",
    "\n",
    "矩阵可以通过两种方式完成复制：tile类似于复制粘贴，repeat类似于分页打印。\n",
    "\n",
    "![QrzrMx](https://upiclw.oss-cn-beijing.aliyuncs.com/uPic/QrzrMx.jpg)\n",
    "\n",
    "特定的列和行可以用delete进行删除：\n",
    "\n",
    "![AMGzCA](https://upiclw.oss-cn-beijing.aliyuncs.com/uPic/AMGzCA.jpg)\n",
    "\n",
    "\n",
    "逆运算为插入：\n",
    "\n",
    "![xM5YWs](https://upiclw.oss-cn-beijing.aliyuncs.com/uPic/xM5YWs.jpg)\n",
    "\n",
    "append就像hstack一样，该函数无法自动转置一维数组，因此再次需要对向量进行转置或添加长度，或者使用column_stack代替：\n",
    "\n",
    "![SZHD2e](https://upiclw.oss-cn-beijing.aliyuncs.com/uPic/SZHD2e.jpg)\n",
    "\n",
    "实际上，如果我们需要做的就是向数组的边界添加常量值，那么pad函数就足够了：\n",
    "\n",
    "![3ZhErt](https://upiclw.oss-cn-beijing.aliyuncs.com/uPic/3ZhErt.jpg)\n",
    "\n",
    "### Meshgrid\n",
    "\n",
    "如果我们要创建以下矩阵：\n",
    "\n",
    "![Uobcsb](https://upiclw.oss-cn-beijing.aliyuncs.com/uPic/Uobcsb.jpg)\n",
    "\n",
    "两种方法都很慢，因为它们使用的是Python循环。在MATLAB处理这类问题的方法是创建一个meshgrid：\n",
    "\n",
    "![YIuydA](https://upiclw.oss-cn-beijing.aliyuncs.com/uPic/YIuydA.jpg)\n",
    "\n",
    "该meshgrid函数接受任意一组索引，mgrid仅是切片，indices只能生成完整的索引范围。fromfunction如上所述，仅使用I和J参数一次调用提供的函数。\n",
    "\n",
    "但是实际上，在NumPy中有一种更好的方法。无需在整个矩阵上耗费存储空间。仅存储大小正确的矢量就足够了，运算规则将处理其余的内容：\n",
    "\n",
    "![F2M1Ly](https://upiclw.oss-cn-beijing.aliyuncs.com/uPic/F2M1Ly.jpg)\n",
    "\n",
    "在没有indexing=’ij’参数的情况下，meshgrid将更改参数的顺序：J, I= np.meshgrid(j, i)—这是一种“ xy”模式，用于可视化3D图。\n",
    "\n",
    "除了在二维或三维数组上初始化外，meshgrid还可以用于索引数组：\n",
    "\n",
    "![Wtmp5k](https://upiclw.oss-cn-beijing.aliyuncs.com/uPic/Wtmp5k.jpg)\n",
    "\n",
    "就像之前提到的统计函数一样，二维数组接受到axis参数后，会采取相应的统计运算：\n",
    "\n",
    "![LLWQgY](https://upiclw.oss-cn-beijing.aliyuncs.com/uPic/LLWQgY.jpg)\n",
    "\n",
    "二维及更高维度中，argmin和argmax函数返回最大最小值的索引：\n",
    "\n",
    "![ShkUrY](https://upiclw.oss-cn-beijing.aliyuncs.com/uPic/ShkUrY.jpg)\n",
    "\n",
    "all和any两个函数也能使用axis参数：\n",
    "\n",
    "![b07IbQ](https://upiclw.oss-cn-beijing.aliyuncs.com/uPic/b07IbQ.jpg)\n",
    "\n",
    "### 矩阵排序\n",
    "\n",
    "尽管axis参数对上面列出的函数很有用，但对二维排序却没有帮助：\n",
    "\n",
    "![w0f4XE](https://upiclw.oss-cn-beijing.aliyuncs.com/uPic/w0f4XE.jpg)\n",
    "\n",
    "axis绝不是Python列表key参数的替代。不过NumPy具有多个函数，允许按列进行排序：\n",
    "\n",
    "1、按第一列对数组排序：a[a[:,0].argsort()]\n",
    "\n",
    "![tdbJ1G](https://upiclw.oss-cn-beijing.aliyuncs.com/uPic/tdbJ1G.jpg)\n",
    "\n",
    "argsort排序后，此处返回原始数组的索引数组。\n",
    "\n",
    "此技巧可以重复，但是必须小心，以免下一个排序混淆前一个排序的结果：\n",
    "\n",
    "```python\n",
    "a = a[a[:,2].argsort()]\n",
    "a = a[a[:,1].argsort(kind=’stable’)]\n",
    "a = a[a[:,0].argsort(kind=’stable’)]\n",
    "```\n",
    "\n",
    "![aTg2Lj](https://upiclw.oss-cn-beijing.aliyuncs.com/uPic/aTg2Lj.jpg)\n",
    "\n",
    "2、有一个辅助函数lexsort，该函数按上述方式对所有可用列进行排序，但始终按行执行，例如：\n",
    "\n",
    "* a[np.lexsort(np.flipud(a[2,5].T))]：先通过第2列排序，再通过第5列排序；\n",
    "\n",
    "* a[np.lexsort(np.flipud(a.T))]：按从左到右所有列依次进行排序。\n",
    "\n",
    "![1vxUk6](https://upiclw.oss-cn-beijing.aliyuncs.com/uPic/1vxUk6.jpg)\n",
    "\n",
    "3、还有一个参数order，但是如果从普通（非结构化）数组开始，则既不快速也不容易使用。\n",
    "\n",
    "4、因为这个特殊的操作方式更具可读性和它可能是一个更好的选择，这样做的pandas不易出错：\n",
    "\n",
    "* pd.DataFrame(a).sort_values(by=[2,5]).to_numpy()：通过第2列再通过第5列进行排序。\n",
    "\n",
    "* pd.DataFrame(a).sort_values().to_numpy()：通过从左向右所有列进行排序\n",
    "\n",
    "\n",
    "### 高维数组运算\n",
    "\n",
    "通过重排一维向量或转换嵌套的Python列表来创建3D数组时，索引的含义为（z，y，x）。\n",
    "\n",
    "第一个索引是平面的编号，然后才是在该平面上的移动：\n",
    "\n",
    "![Qqn6i5](https://upiclw.oss-cn-beijing.aliyuncs.com/uPic/Qqn6i5.jpg)\n",
    "\n",
    "这种索引顺序很方便，例如用于保留一堆灰度图像：这a[i]是引用第i个图像的快捷方式。\n",
    "\n",
    "但是此索引顺序不是通用的。处理RGB图像时，通常使用（y，x，z）顺序：前两个是像素坐标，最后一个是颜色坐标（Matplotlib中是RGB ，OpenCV中是BGR ）：\n",
    "\n",
    "![4fisgo](https://upiclw.oss-cn-beijing.aliyuncs.com/uPic/4fisgo.jpg)\n",
    "\n",
    "这样，可以方便地引用特定像素：a[i,j]给出像素的RGB元组(i,j)。\n",
    "\n",
    "因此，创建特定几何形状的实际命令取决于正在处理的域的约定：\n",
    "\n",
    "![ql6sX1](https://upiclw.oss-cn-beijing.aliyuncs.com/uPic/ql6sX1.jpg)\n",
    "\n",
    "显然，NumPy函数像hstack、vstack或dstack不知道这些约定。其中硬编码的索引顺序是（y，x，z），RGB图像顺序是：\n",
    "\n",
    "![YqySZ5](https://upiclw.oss-cn-beijing.aliyuncs.com/uPic/YqySZ5.jpg)\n",
    "\n",
    "如果数据的布局不同，则使用concatenate命令堆叠图像，并在axis参数中提供显式索引数会更方便：\n",
    "\n",
    "![rwnQVg](https://upiclw.oss-cn-beijing.aliyuncs.com/uPic/rwnQVg.jpg)\n",
    "\n",
    "如果不方便使用axis，可以将数组转换硬编码为hstack的形式：\n",
    "\n",
    "![eP1HWw](https://upiclw.oss-cn-beijing.aliyuncs.com/uPic/eP1HWw.jpg)\n",
    "\n",
    "这种转换没有实际的复制发生。它只是混合索引的顺序。\n",
    "\n",
    "混合索引顺序的另一个操作是数组转置。检查它可能会让我们对三维数组更加熟悉。\n",
    "\n",
    "根据我们决定的axis顺序，转置数组所有平面的实际命令将有所不同：对于通用数组，它交换索引1和2，对于RGB图像，它交换0和1：\n",
    "\n",
    "![kcoMyH](https://upiclw.oss-cn-beijing.aliyuncs.com/uPic/kcoMyH.jpg)\n",
    "\n",
    "有趣的是，（和唯一的操作模式）默认的axes参数颠倒了索引顺序，这与上述两个索引顺序约定都不相符。\n",
    "\n",
    "最后，还有一个函数，可以在处理多维数组时节省很多Python循环，并使代码更简洁，这就是爱因斯坦求和函数einsum：\n",
    "\n",
    "![gBUEXP](https://upiclw.oss-cn-beijing.aliyuncs.com/uPic/gBUEXP.jpg)\n",
    "\n",
    "它将沿重复索引的数组求和。\n",
    "\n",
    "最后，若要掌握NumPy，可以前去GitHub上的项目——100道NumPy练习题，验证自己的学习成果。"
   ]
  },
  {
   "cell_type": "code",
   "execution_count": null,
   "metadata": {},
   "outputs": [],
   "source": []
  }
 ],
 "metadata": {
  "kernelspec": {
   "display_name": "Python 3",
   "language": "python",
   "name": "python3"
  },
  "language_info": {
   "codemirror_mode": {
    "name": "ipython",
    "version": 3
   },
   "file_extension": ".py",
   "mimetype": "text/x-python",
   "name": "python",
   "nbconvert_exporter": "python",
   "pygments_lexer": "ipython3",
   "version": "3.6.8"
  },
  "tianchi_metadata": {
   "competitions": [],
   "datasets": [],
   "description": "",
   "notebookId": "161511",
   "source": "dsw"
  },
  "toc": {
   "base_numbering": 1,
   "nav_menu": {},
   "number_sections": true,
   "sideBar": true,
   "skip_h1_title": false,
   "title_cell": "Table of Contents",
   "title_sidebar": "Contents",
   "toc_cell": false,
   "toc_position": {},
   "toc_section_display": true,
   "toc_window_display": false
  },
  "varInspector": {
   "cols": {
    "lenName": 16,
    "lenType": 16,
    "lenVar": 40
   },
   "kernels_config": {
    "python": {
     "delete_cmd_postfix": "",
     "delete_cmd_prefix": "del ",
     "library": "var_list.py",
     "varRefreshCmd": "print(var_dic_list())"
    },
    "r": {
     "delete_cmd_postfix": ") ",
     "delete_cmd_prefix": "rm(",
     "library": "var_list.r",
     "varRefreshCmd": "cat(var_dic_list()) "
    }
   },
   "types_to_exclude": [
    "module",
    "function",
    "builtin_function_or_method",
    "instance",
    "_Feature"
   ],
   "window_display": false
  }
 },
 "nbformat": 4,
 "nbformat_minor": 4
}
